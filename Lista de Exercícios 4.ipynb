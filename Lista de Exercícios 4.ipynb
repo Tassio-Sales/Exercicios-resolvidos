{
 "cells": [
  {
   "cell_type": "markdown",
   "id": "9fbfa41a",
   "metadata": {},
   "source": [
    "Lista de Exercícios 4"
   ]
  },
  {
   "cell_type": "markdown",
   "id": "f440d501",
   "metadata": {},
   "source": [
    "1. Escreva um programa que efetue a leitura de 20 valores numéricos e apresente no final o total do somatório e a média dos valores lidos."
   ]
  },
  {
   "cell_type": "code",
   "execution_count": 6,
   "id": "64b99418",
   "metadata": {},
   "outputs": [
    {
     "name": "stdout",
     "output_type": "stream",
     "text": [
      "Informe 1º número: 1\n",
      "Informe 2º número: 1\n",
      "Informe 3º número: 1\n",
      "Informe 4º número: 1\n",
      "Informe 5º número: 1\n",
      "Informe 6º número: 1\n",
      "Informe 7º número: 1\n",
      "Informe 8º número: 1\n",
      "Informe 9º número: 1\n",
      "Informe 10º número: 1\n",
      "Informe 11º número: 1\n",
      "Informe 12º número: 1\n",
      "Informe 13º número: 1\n",
      "Informe 14º número: 1\n",
      "Informe 15º número: 1\n",
      "Informe 16º número: 1\n",
      "Informe 17º número: 1\n",
      "Informe 18º número: 1\n",
      "Informe 19º número: 1\n",
      "Informe 20º número: 1\n",
      "20.0\n",
      "1.0\n"
     ]
    }
   ],
   "source": [
    "soma = 0\n",
    "for i in range (1,21):\n",
    "    numero = float(input('Informe {}º número: '.format(i)))\n",
    "    soma += numero\n",
    "\n",
    "media = soma/20\n",
    "\n",
    "print(soma)\n",
    "print(media)\n",
    "    "
   ]
  },
  {
   "cell_type": "markdown",
   "id": "e060d41a",
   "metadata": {},
   "source": [
    "2. Escreva um programa que calcula a média de 30 alunos e informa a situação (reprovado, aprovado ou recuperação)."
   ]
  },
  {
   "cell_type": "code",
   "execution_count": 9,
   "id": "08607f6e",
   "metadata": {},
   "outputs": [
    {
     "name": "stdout",
     "output_type": "stream",
     "text": [
      "Informe a 1ª nota do 1º aluno: 9.45\n",
      "Informe a 2ª nota do 1º aluno: 8.456\n",
      "Informe a 3ª nota do 1º aluno: 4.568\n",
      "Informe a 4ª nota do 1º aluno: 5.132\n",
      "A média do 1º foi de 6.90!\n",
      "O 1º aluno está em recuperação!\n",
      "Informe a 1ª nota do 2º aluno: 5\n",
      "Informe a 2ª nota do 2º aluno: 5\n",
      "Informe a 3ª nota do 2º aluno: 5\n",
      "Informe a 4ª nota do 2º aluno: 5\n",
      "A média do 2º foi de 5.00!\n",
      "O 2º aluno está em recuperação!\n",
      "Informe a 1ª nota do 3º aluno: 2\n",
      "Informe a 2ª nota do 3º aluno: 2\n",
      "Informe a 3ª nota do 3º aluno: 2\n",
      "Informe a 4ª nota do 3º aluno: 2\n",
      "A média do 3º foi de 2.00!\n",
      "O 3º aluno foi reprovado!\n"
     ]
    }
   ],
   "source": [
    "for i in range (1, 31):\n",
    "    soma = 0\n",
    "    for j in range (1, 5):\n",
    "        nota = float(input(f'Informe a {j}ª nota do {i}º aluno: '))\n",
    "        soma += nota\n",
    "    media = soma / 4\n",
    "    if media >= 7:\n",
    "        print(f'A média do {i}º aluno foi de {media:.2f}!')\n",
    "        print(f'O {i}º aluno foi aprovado!')\n",
    "    elif 4 <= media < 7:\n",
    "        print(f'A média do {i}º aluno foi de {media:.2f}!')\n",
    "        print(f'O {i}º aluno está em recuperação!')\n",
    "    elif media < 4:\n",
    "        print(f'A média do {i}º aluno foi de {media:.2f}!')\n",
    "        print(f'O {i}º aluno foi reprovado!')\n",
    "                      "
   ]
  },
  {
   "cell_type": "markdown",
   "id": "d74d5291",
   "metadata": {},
   "source": [
    "3. Escreva um programa para mostrar os números ímpares de 10 a 100."
   ]
  },
  {
   "cell_type": "code",
   "execution_count": 1,
   "id": "df0e7d20",
   "metadata": {},
   "outputs": [
    {
     "name": "stdout",
     "output_type": "stream",
     "text": [
      "11\n",
      "13\n",
      "15\n",
      "17\n",
      "19\n",
      "21\n",
      "23\n",
      "25\n",
      "27\n",
      "29\n",
      "31\n",
      "33\n",
      "35\n",
      "37\n",
      "39\n",
      "41\n",
      "43\n",
      "45\n",
      "47\n",
      "49\n",
      "51\n",
      "53\n",
      "55\n",
      "57\n",
      "59\n",
      "61\n",
      "63\n",
      "65\n",
      "67\n",
      "69\n",
      "71\n",
      "73\n",
      "75\n",
      "77\n",
      "79\n",
      "81\n",
      "83\n",
      "85\n",
      "87\n",
      "89\n",
      "91\n",
      "93\n",
      "95\n",
      "97\n",
      "99\n"
     ]
    }
   ],
   "source": [
    "for i in range (11,100,2):\n",
    "    print(i)"
   ]
  },
  {
   "cell_type": "markdown",
   "id": "383cb958",
   "metadata": {},
   "source": [
    "4. Fazer um programa para ler o sexo de dez pessoas e mostrar a quantidade de pessoas do sexo masculino e do sexo feminino, separadamente."
   ]
  },
  {
   "cell_type": "code",
   "execution_count": 6,
   "id": "ac2fbce0",
   "metadata": {},
   "outputs": [
    {
     "name": "stdout",
     "output_type": "stream",
     "text": [
      "Informe o sexo da 1ª pessoa (F - Feminino/M - Masculitno): f\n",
      "Informe o sexo da 2ª pessoa (F - Feminino/M - Masculitno): m\n",
      "Informe o sexo da 3ª pessoa (F - Feminino/M - Masculitno): f\n",
      "Informe o sexo da 4ª pessoa (F - Feminino/M - Masculitno): m\n",
      "Informe o sexo da 5ª pessoa (F - Feminino/M - Masculitno): f\n",
      "Informe o sexo da 6ª pessoa (F - Feminino/M - Masculitno): m\n",
      "Informe o sexo da 7ª pessoa (F - Feminino/M - Masculitno): f\n",
      "Informe o sexo da 8ª pessoa (F - Feminino/M - Masculitno): m\n",
      "Informe o sexo da 9ª pessoa (F - Feminino/M - Masculitno): F\n",
      "Informe o sexo da 10ª pessoa (F - Feminino/M - Masculitno): M\n",
      "5\n",
      "5\n"
     ]
    }
   ],
   "source": [
    "femea = 0\n",
    "macho = 0\n",
    "\n",
    "for i in range (1, 11):\n",
    "    pessoa = str(input('Informe o sexo da {}ª pessoa (F - Feminino/M - Masculitno): '.format(i))).upper()\n",
    "    if pessoa == 'M':\n",
    "                 macho += 1\n",
    "    elif pessoa == 'F':\n",
    "                 femea += 1\n",
    "    else:\n",
    "                 print('Opção inválida')\n",
    "print(macho)\n",
    "print(femea)"
   ]
  },
  {
   "cell_type": "markdown",
   "id": "618b7085",
   "metadata": {},
   "source": [
    "5. Escreva um programa que leia 10 números e informe o maior e o menor número."
   ]
  },
  {
   "cell_type": "code",
   "execution_count": 9,
   "id": "dfc3721d",
   "metadata": {},
   "outputs": [
    {
     "name": "stdout",
     "output_type": "stream",
     "text": [
      "Infome o 1º número: 1\n",
      "Informe o 2º número: 2\n",
      "Informe o 3º número: 5\n",
      "Informe o 4º número: 2\n",
      "Informe o 5º número: 7\n",
      "Informe o 6º número: -8\n",
      "Informe o 7º número: -10\n",
      "Informe o 8º número: 70\n",
      "Informe o 9º número: 10\n",
      "70.0\n",
      "-10.0\n"
     ]
    }
   ],
   "source": [
    "maior = menor = float(input('Infome o 1º número: '))\n",
    "for i in range (2,10):\n",
    "    numero = float(input('Informe o {}º número: '.format(i)))\n",
    "    if maior < numero:\n",
    "        maior = numero\n",
    "    elif menor > numero:\n",
    "        menor = numero\n",
    "        \n",
    "print(maior)\n",
    "print(menor)\n",
    "   "
   ]
  },
  {
   "cell_type": "markdown",
   "id": "8da426d9",
   "metadata": {},
   "source": [
    "6. Escreva um programa que mostre os números divisíveis por 5 de 1 a 100."
   ]
  },
  {
   "cell_type": "code",
   "execution_count": 10,
   "id": "ec18ba5e",
   "metadata": {},
   "outputs": [
    {
     "name": "stdout",
     "output_type": "stream",
     "text": [
      "5\n",
      "10\n",
      "15\n",
      "20\n",
      "25\n",
      "30\n",
      "35\n",
      "40\n",
      "45\n",
      "50\n",
      "55\n",
      "60\n",
      "65\n",
      "70\n",
      "75\n",
      "80\n",
      "85\n",
      "90\n",
      "95\n",
      "100\n"
     ]
    }
   ],
   "source": [
    "for i in range (1, 101):\n",
    "    if i % 5 == 0:\n",
    "        print (i)"
   ]
  },
  {
   "cell_type": "markdown",
   "id": "ea829ff8",
   "metadata": {},
   "source": [
    "7. Escreva um programa que calcula o fatorial de um dado número N."
   ]
  },
  {
   "cell_type": "code",
   "execution_count": 8,
   "id": "58dae02f",
   "metadata": {},
   "outputs": [
    {
     "name": "stdout",
     "output_type": "stream",
     "text": [
      "Informe um número: 4\n",
      "Calculando o fatorial de 4: 4x3x2x1 = 24"
     ]
    }
   ],
   "source": [
    "num = int(input('Informe um número: '))\n",
    "cont = num\n",
    "fact = 1\n",
    "print('Calculando o fatorial de {}: '.format(num), end = '')\n",
    "for i in range (num, 0, -1):\n",
    "    print('{}'.format(cont), end = '')\n",
    "    if i > 1:\n",
    "        print('x', end = '')\n",
    "    else:\n",
    "        print(' = ', end = '')\n",
    "    fact *= cont\n",
    "    cont -= 1\n",
    "print(fact, end = '')\n",
    "        "
   ]
  },
  {
   "cell_type": "markdown",
   "id": "74bd338d",
   "metadata": {},
   "source": [
    "8. Faça um programa para somar os números pares positivos < 1000 e ao final escrever o resultado."
   ]
  },
  {
   "cell_type": "code",
   "execution_count": 15,
   "id": "83024643",
   "metadata": {},
   "outputs": [
    {
     "name": "stdout",
     "output_type": "stream",
     "text": [
      "250500\n"
     ]
    }
   ],
   "source": [
    "soma = 0\n",
    "for i in range (2, 1001, 2):\n",
    "    soma += i    \n",
    "print(soma)"
   ]
  },
  {
   "cell_type": "markdown",
   "id": "3d4f607d",
   "metadata": {},
   "source": [
    "9. Faça um programa para calcular a área de N quadriláteros. Fórmula: Área = Lado * Lado."
   ]
  },
  {
   "cell_type": "code",
   "execution_count": 21,
   "id": "0762d769",
   "metadata": {},
   "outputs": [
    {
     "name": "stdout",
     "output_type": "stream",
     "text": [
      "Informe quantos quadriláteros você deseja calcular: 3\n",
      "Informe a medida em metros do lado do 1º quadilátero: 5\n",
      "A área do 1º quadilátero é de 25.0m²!\n",
      "Informe a medida em metros do lado do 2º quadilátero: 6\n",
      "A área do 2º quadilátero é de 36.0m²!\n",
      "Informe a medida em metros do lado do 3º quadilátero: 4.2\n",
      "A área do 3º quadilátero é de 17.64m²!\n"
     ]
    }
   ],
   "source": [
    "quadrilateros = int(input('Informe quantas áreas de quadriláteros você deseja calcular: '))\n",
    "\n",
    "for i in range (0, quadrilateros):\n",
    "    lado = float(input('Informe a medida em metros do lado do {}º quadilátero: '. format(i+1)))\n",
    "    area = lado ** 2\n",
    "    print('A área do {}º quadilátero é de {}m²!'.format(i+1, area))\n",
    "\n",
    "    \n"
   ]
  },
  {
   "cell_type": "markdown",
   "id": "be1dd109",
   "metadata": {},
   "source": [
    "10. Faça um programa para calcular a área de N Círculos."
   ]
  },
  {
   "cell_type": "code",
   "execution_count": 23,
   "id": "aeac2ec9",
   "metadata": {},
   "outputs": [
    {
     "name": "stdout",
     "output_type": "stream",
     "text": [
      "Informe quantas áreas de circulos você deseja calcular: 1\n",
      "Informe a medida em centímetros do raio do 1º círculo: 2.5\n",
      "A área do 1º círculo é de 19.62cm²!\n"
     ]
    }
   ],
   "source": [
    "circulos = int(input('Informe quantas áreas de circulos você deseja calcular: '))\n",
    "\n",
    "for i in range (0, circulos):\n",
    "    raio = float(input('Informe a medida em centímetros do raio do {}º círculo: '. format(i+1)))\n",
    "    area = 3.14 * raio ** 2\n",
    "    print('A área do {}º círculo é de {:.2f}cm²!'.format(i+1, area))"
   ]
  },
  {
   "cell_type": "markdown",
   "id": "09d0e9d6",
   "metadata": {},
   "source": [
    "11. Faça um programa para calcular um valor A elevado a um expoente B. Os valores A e B deverão ser lidos. Não usar A** B e sim uma estrutura de repetição."
   ]
  },
  {
   "cell_type": "code",
   "execution_count": 31,
   "id": "dcfa2fee",
   "metadata": {},
   "outputs": [
    {
     "name": "stdout",
     "output_type": "stream",
     "text": [
      "Informe o valor da base: 2\n",
      "Informe o valor do expoente: 10\n",
      "1024\n"
     ]
    }
   ],
   "source": [
    "base = float(input('Informe o valor da base: '))\n",
    "expoente = int(input('Informe o valor do expoente: '))\n",
    "produto = 1\n",
    "contador = 0\n",
    "\n",
    "while contador < expoente:\n",
    "    produto *= base\n",
    "    contador += 1\n",
    "    \n",
    "print(f'{produto:.0f}')"
   ]
  },
  {
   "cell_type": "markdown",
   "id": "82d2b1af",
   "metadata": {},
   "source": [
    "12. Faça um programa para ler um valor X e calcular Y = X + 2X + 3X + 4X + … + 20X"
   ]
  },
  {
   "cell_type": "code",
   "execution_count": 38,
   "id": "f3a1f967",
   "metadata": {},
   "outputs": [
    {
     "name": "stdout",
     "output_type": "stream",
     "text": [
      "Informe o valor de X: 2\n",
      "456.0\n"
     ]
    }
   ],
   "source": [
    "X = float(input('Informe o valor de X: '))\n",
    "Y = 0\n",
    "\n",
    "for i in range (2, 21):\n",
    "    Y += X + i * X\n",
    "print(Y)"
   ]
  },
  {
   "cell_type": "markdown",
   "id": "3ec97d1a",
   "metadata": {},
   "source": [
    "13. Sendo H = 1 + 1/2 + 1/3 + 1/4 + ... + 1/N. Faça um programa para gerar e mostrar o número H. O número N será fornecido como entrada."
   ]
  },
  {
   "cell_type": "code",
   "execution_count": 42,
   "id": "1a6ca55c",
   "metadata": {},
   "outputs": [
    {
     "name": "stdout",
     "output_type": "stream",
     "text": [
      "Informe o valor de N: 5\n",
      "1.2\n"
     ]
    }
   ],
   "source": [
    "N = int(input('Informe o valor de N: '))\n",
    "\n",
    "for i in range (1, N+1):\n",
    "    H = 1 + 1 / i\n",
    "print(H)"
   ]
  },
  {
   "cell_type": "markdown",
   "id": "823021e1",
   "metadata": {},
   "source": [
    "14. Faça um programa para:\n",
    "\n",
    "a) Ler um valor x qualquer\n",
    "\n",
    "b) Calcular Y = (x+1) + (x+2) + (x+3) + (x+4) + (x+5) + … + (x+100)."
   ]
  },
  {
   "cell_type": "code",
   "execution_count": 45,
   "id": "889c9553",
   "metadata": {},
   "outputs": [
    {
     "name": "stdout",
     "output_type": "stream",
     "text": [
      "Informe o valor de X: 1\n",
      "5150.0\n"
     ]
    }
   ],
   "source": [
    "X = float(input('Informe o valor de X: '))\n",
    "Y = 0\n",
    "for i in range (1, 101):\n",
    "    Y += X  + i\n",
    "print(Y)\n"
   ]
  },
  {
   "cell_type": "markdown",
   "id": "3ac57a16",
   "metadata": {},
   "source": [
    "15. Fazer um programa que calcule e escreva a soma dos 50 primeiros termos da seguinte série:\n",
    "\n",
    "1000/1 + 997/2 + 994/3 + 991/4 ...\n"
   ]
  },
  {
   "cell_type": "code",
   "execution_count": 62,
   "id": "c5868f09",
   "metadata": {},
   "outputs": [
    {
     "name": "stdout",
     "output_type": "stream",
     "text": [
      "1000.0\n",
      "1498.5\n",
      "1829.8333333333333\n",
      "2077.583333333333\n",
      "2275.183333333333\n",
      "2439.3499999999995\n",
      "2579.6357142857137\n",
      "2702.0107142857137\n",
      "2810.455158730158\n",
      "2907.755158730158\n",
      "2995.936976911976\n",
      "3076.5203102453097\n",
      "3150.674156399156\n",
      "3219.3170135420132\n",
      "3283.18368020868\n",
      "3342.87118020868\n",
      "3398.87118020868\n",
      "3451.593402430902\n",
      "3501.3828761151126\n",
      "3548.5328761151127\n",
      "3593.2947808770173\n",
      "3635.8856899679263\n",
      "3676.4943856201003\n",
      "3715.286052286767\n",
      "3752.4060522867667\n",
      "3787.9829753636895\n",
      "3822.131123511838\n",
      "3854.9525520832663\n",
      "3886.538758979818\n",
      "3916.9720923131513\n",
      "3946.326931022829\n",
      "3974.670681022829\n",
      "4002.0646204167683\n",
      "4028.5646204167683\n",
      "4054.221763273911\n",
      "4079.0828743850225\n",
      "4103.190982493131\n",
      "4126.585719335236\n",
      "4149.303668053184\n",
      "4171.378668053184\n",
      "4192.84208268733\n",
      "4213.723035068282\n",
      "4234.048616463631\n",
      "4253.844071009086\n",
      "4273.1329598979755\n",
      "4291.9373077240625\n",
      "4310.277733255977\n",
      "4328.17356658931\n",
      "4345.642954344412\n",
      "4362.702954344412\n"
     ]
    }
   ],
   "source": [
    "dividendo = 1000\n",
    "serie = 0\n",
    "\n",
    "for i in range (1, 51):\n",
    "    serie += dividendo / i\n",
    "    dividendo -= 3\n",
    "print(serie)\n"
   ]
  },
  {
   "cell_type": "markdown",
   "id": "fc41109d",
   "metadata": {},
   "source": [
    "16. Faça um programa que recebe o número real x como entrada e devolva uma aproximação do arco tangente de x (em radianos) através da série:\n",
    "\n",
    "arctan(x) = x - x^3/3 + x^5/5 - x^7/7 + ...\n",
    "\n",
    "Considere a aproximação para 50 termos"
   ]
  },
  {
   "cell_type": "code",
   "execution_count": 3,
   "id": "50b7ff82",
   "metadata": {},
   "outputs": [
    {
     "name": "stdout",
     "output_type": "stream",
     "text": [
      "Informe o valor de x: 1\n",
      "-0.9476758385739174\n"
     ]
    }
   ],
   "source": [
    "arctan = x = float(input('Informe o valor de x: '))\n",
    "expoente = 3\n",
    "sinal = -1\n",
    "for i in range (0, 50):\n",
    "    arctan +=  (x ** expoente / expoente) * sinal\n",
    "    expoente += 2\n",
    "print(arctan)\n",
    "    "
   ]
  },
  {
   "cell_type": "markdown",
   "id": "33224103",
   "metadata": {},
   "source": [
    "17. Faça um programa que mostre os n termos da Série a seguir:\n",
    "\n",
    "S = 1/1 + 2/3 + 3/5 + 4/7 + 5/9 + ... + n/m.\n",
    "\n",
    "Imprima no final a soma da série. "
   ]
  },
  {
   "cell_type": "code",
   "execution_count": 6,
   "id": "23256586",
   "metadata": {},
   "outputs": [
    {
     "name": "stdout",
     "output_type": "stream",
     "text": [
      "Informe o valor de N: 5\n",
      "3.393650793650793\n"
     ]
    }
   ],
   "source": [
    "n = int(input('Informe o valor de N: '))\n",
    "S = 0\n",
    "divisor = 1\n",
    "for i in range (1, n+1):\n",
    "    S += i/divisor\n",
    "    divisor += 2\n",
    "print(S)"
   ]
  },
  {
   "cell_type": "markdown",
   "id": "96189c9f",
   "metadata": {},
   "source": [
    "18. Cada espectador de um cinema respondeu a um questionário no qual constava sua idade e a sua opinião em relação ao filme: ótimo - 3, bom - 2, regular - 1. Faça um programa que receba a idade e a opinião de 15 espectadores, calcule e imprima:\n",
    "\n",
    "a) A média das idades das pessoas que responderam ótimo;\n",
    "\n",
    "b) A quantidade de pessoas que responderam regular;\n",
    "\n",
    "c) A porcentagem de pessoas que responderam bom entre todos os espectadores analisados."
   ]
  },
  {
   "cell_type": "code",
   "execution_count": 18,
   "id": "2af1fd4e",
   "metadata": {},
   "outputs": [
    {
     "name": "stdout",
     "output_type": "stream",
     "text": [
      "Informe a idade do 1º espectador: 10\n",
      "Informe qual foi a avaliação do 1º especitador (Digite 3 para Ótimo, 2 para Bom e 1 para Regular): 3\n",
      "Informe a idade do 2º espectador: 20\n",
      "Informe qual foi a avaliação do 2º especitador (Digite 3 para Ótimo, 2 para Bom e 1 para Regular): 2\n",
      "Informe a idade do 3º espectador: 30\n",
      "Informe qual foi a avaliação do 3º especitador (Digite 3 para Ótimo, 2 para Bom e 1 para Regular): 1\n",
      "Informe a idade do 4º espectador: 10\n",
      "Informe qual foi a avaliação do 4º especitador (Digite 3 para Ótimo, 2 para Bom e 1 para Regular): 3\n",
      "Informe a idade do 5º espectador: 20\n",
      "Informe qual foi a avaliação do 5º especitador (Digite 3 para Ótimo, 2 para Bom e 1 para Regular): 2\n",
      "Informe a idade do 6º espectador: 30\n",
      "Informe qual foi a avaliação do 6º especitador (Digite 3 para Ótimo, 2 para Bom e 1 para Regular): 1\n",
      "Informe a idade do 7º espectador: 10\n",
      "Informe qual foi a avaliação do 7º especitador (Digite 3 para Ótimo, 2 para Bom e 1 para Regular): 3\n",
      "Informe a idade do 8º espectador: 20\n",
      "Informe qual foi a avaliação do 8º especitador (Digite 3 para Ótimo, 2 para Bom e 1 para Regular): 2\n",
      "Informe a idade do 9º espectador: 30\n",
      "Informe qual foi a avaliação do 9º especitador (Digite 3 para Ótimo, 2 para Bom e 1 para Regular): 1\n",
      "Informe a idade do 10º espectador: 10\n",
      "Informe qual foi a avaliação do 10º especitador (Digite 3 para Ótimo, 2 para Bom e 1 para Regular): 3\n",
      "Informe a idade do 11º espectador: 20\n",
      "Informe qual foi a avaliação do 11º especitador (Digite 3 para Ótimo, 2 para Bom e 1 para Regular): 2\n",
      "Informe a idade do 12º espectador: 30\n",
      "Informe qual foi a avaliação do 12º especitador (Digite 3 para Ótimo, 2 para Bom e 1 para Regular): 1\n",
      "Informe a idade do 13º espectador: 10\n",
      "Informe qual foi a avaliação do 13º especitador (Digite 3 para Ótimo, 2 para Bom e 1 para Regular): 3\n",
      "Informe a idade do 14º espectador: 20\n",
      "Informe qual foi a avaliação do 14º especitador (Digite 3 para Ótimo, 2 para Bom e 1 para Regular): 2\n",
      "Informe a idade do 15º espectador: 30\n",
      "Informe qual foi a avaliação do 15º especitador (Digite 3 para Ótimo, 2 para Bom e 1 para Regular): 1\n",
      "A média de idade dos espectadores que avaliaram como ótimo foi de 10 anos!\n",
      "O número de espectadores que avaliaram como regular foi de 5!\n",
      "A porcentagel de espectadores que avaliaram como bom foi de 33.33%!\n"
     ]
    }
   ],
   "source": [
    "total_idade_otimo = 0\n",
    "total_votos = 0\n",
    "total_otimo = 0\n",
    "total_bom = 0\n",
    "total_regular = 0\n",
    "\n",
    "for i in range (1, 16):\n",
    "    idade = int(input(f'Informe a idade do {i}º espectador: '))\n",
    "    opniao = int(input(f'Informe qual foi a avaliação do {i}º especitador (Digite 3 para Ótimo, 2 para Bom e 1 para Regular): '))\n",
    "    total_votos += 1\n",
    "    if opniao == 3:\n",
    "        total_idade_otimo += idade\n",
    "        total_otimo += 1\n",
    "    if opniao == 1:\n",
    "        total_regular += 1\n",
    "    if opniao == 2:\n",
    "        total_bom += 1        \n",
    "media_otimo = total_idade_otimo / total_otimo\n",
    "porcentagem_bom = (total_bom / total_votos) * 100\n",
    "print(f'A média de idade dos espectadores que avaliaram como ótimo foi de {media_otimo:.0f} anos!')\n",
    "print(f'O número de espectadores que avaliaram como regular foi de {total_regular}!')\n",
    "print(f'A porcentagel de espectadores que avaliaram como bom foi de {porcentagem_bom:.2f}%!')"
   ]
  },
  {
   "cell_type": "markdown",
   "id": "51115d7d",
   "metadata": {},
   "source": [
    "19. Faça um programa que receba dois números inteiros e gere os números inteiros que estão no intervalo compreendido por eles."
   ]
  },
  {
   "cell_type": "code",
   "execution_count": 1,
   "id": "f6e7c2ab",
   "metadata": {},
   "outputs": [
    {
     "name": "stdout",
     "output_type": "stream",
     "text": [
      "Informe o primeiro número inteiro: 10\n",
      "Informe o segundo número inteiro: 1\n",
      "O intervalo entre 10 e 1 é de: 9 8 7 6 5 4 3 2 "
     ]
    }
   ],
   "source": [
    "n1 = int(input('Informe o primeiro número inteiro: '))\n",
    "n2 = int(input('Informe o segundo número inteiro: '))\n",
    "\n",
    "if n1 < n2:\n",
    "    print(f'O intervalo entre {n1} e {n2} é de: ', end = '')\n",
    "    for i in range(n1+1, n2):\n",
    "        print (i, end = ' ')\n",
    "elif n2 < n1:\n",
    "    print(f'O intervalo entre {n1} e {n2} é de: ', end = '')\n",
    "    for i in range(n1-1, n2, -1):\n",
    "        print (i, end = ' ')\n",
    "else:\n",
    "    print('Os números são iguais!')"
   ]
  },
  {
   "cell_type": "markdown",
   "id": "82820e30",
   "metadata": {},
   "source": [
    "20. Desenvolva um gerador de tabuada, capaz de gerar a tabuada de qualquer número inteiro entre 1 a 10. O usuário deve informar de qual numero ele deseja ver a tabuada. A saída deve ser conforme o exemplo abaixo:\n",
    "\n",
    "Tabuada de 5:\n",
    "    \n",
    "5 X 1 = 5\n",
    "5 X 2 = 10\n",
    "... \n",
    "5 X 10 = 50"
   ]
  },
  {
   "cell_type": "code",
   "execution_count": 12,
   "id": "e2d71145",
   "metadata": {
    "scrolled": true
   },
   "outputs": [
    {
     "name": "stdout",
     "output_type": "stream",
     "text": [
      "Informe o número que você deseja calcular a tabuada: 5\n",
      "A tabuada de 5 é: \n",
      "5 x 1  = 5\n",
      "5 x 2  = 10\n",
      "5 x 3  = 15\n",
      "5 x 4  = 20\n",
      "5 x 5  = 25\n",
      "5 x 6  = 30\n",
      "5 x 7  = 35\n",
      "5 x 8  = 40\n",
      "5 x 9  = 45\n",
      "5 x 10  = 50\n"
     ]
    }
   ],
   "source": [
    "num = int(input('Informe o número que você deseja calcular a tabuada: '))\n",
    "\n",
    "print(f'A tabuada de {num} é: ')\n",
    "print(end = '')\n",
    "for i in range (1, 11):\n",
    "    print(f'{num}', end = '')\n",
    "    print(' x ', end = '')\n",
    "    print(f'{i}', end = '')\n",
    "    produto = num * i\n",
    "    print (' = ', end = '')\n",
    "    print(f'{produto}')"
   ]
  },
  {
   "cell_type": "markdown",
   "id": "604eed69",
   "metadata": {},
   "source": [
    "21. Faça um programa que peça um número inteiro e determine se ele é ou não um número primo. Um número primo é aquele que é divisível somente por ele mesmo e por 1."
   ]
  },
  {
   "cell_type": "code",
   "execution_count": 74,
   "id": "84112276",
   "metadata": {},
   "outputs": [
    {
     "name": "stdout",
     "output_type": "stream",
     "text": [
      "Informe um número inteiro: 9\n",
      "O número 9 não é primo!\n"
     ]
    }
   ],
   "source": [
    "num = int(input('Informe um número inteiro: '))\n",
    "\n",
    "nao_primo = False\n",
    "if num == 0:\n",
    "    print('O número 0 não é primo!')\n",
    "elif num == 1:\n",
    "    print('O número 1 não é primo!')\n",
    "else:\n",
    "    for i in range (2, num):\n",
    "        resto = num % i\n",
    "        if resto == 0: \n",
    "            nao_primo = True\n",
    "    if nao_primo == False:\n",
    "        print(f'O número {num} é primo!')\n",
    "    else:\n",
    "        print(f'O número {num} não é primo!')\n",
    "    \n",
    "   \n",
    "    "
   ]
  }
 ],
 "metadata": {
  "kernelspec": {
   "display_name": "Python 3 (ipykernel)",
   "language": "python",
   "name": "python3"
  },
  "language_info": {
   "codemirror_mode": {
    "name": "ipython",
    "version": 3
   },
   "file_extension": ".py",
   "mimetype": "text/x-python",
   "name": "python",
   "nbconvert_exporter": "python",
   "pygments_lexer": "ipython3",
   "version": "3.9.12"
  }
 },
 "nbformat": 4,
 "nbformat_minor": 5
}
