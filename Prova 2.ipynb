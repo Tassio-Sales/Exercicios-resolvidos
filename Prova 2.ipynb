{
 "cells": [
  {
   "cell_type": "markdown",
   "id": "a8e881b1",
   "metadata": {},
   "source": [
    "Tássio Sales e Cláudio Araújo"
   ]
  },
  {
   "cell_type": "code",
   "execution_count": 8,
   "id": "5cf4e05b",
   "metadata": {},
   "outputs": [
    {
     "name": "stdout",
     "output_type": "stream",
     "text": [
      "5\n",
      "4\n",
      "1\n",
      "[0, 9, 9, 0, 0]\n"
     ]
    }
   ],
   "source": [
    "\n",
    "\n",
    "\n",
    "lista1 = [3, 1, 2, 3, 4]\n",
    "lista2 = [9, 9, 0, 0]\n",
    "\n",
    "def soma_lista (lista1, lista2):\n",
    "    soma = []\n",
    "    quantidade_elementos1 = len(lista1)\n",
    "    quantidade_elementos2 = len(lista2)\n",
    "    print(quantidade_elementos1)\n",
    "    print(quantidade_elementos2)\n",
    "    if quantidade_elementos1 < quantidade_elementos2:\n",
    "        diferenca = quantidade_elementos2 - quantidade_elementos1\n",
    "        print(diferenca)\n",
    "        for i in range(0, diferenca):\n",
    "            lista1.insert(0, 0)\n",
    "        print(lista1)\n",
    "    elif quantidade_elementos1 > quantidade_elementos2:\n",
    "        diferenca =  quantidade_elementos1 - quantidade_elementos2\n",
    "        print(diferenca)\n",
    "        for i in range(0, diferenca):\n",
    "            lista2.insert(0, 0)\n",
    "        print(lista2)    \n",
    "            \n",
    "soma_lista(lista1, lista2)\n",
    "    \n",
    "    \n",
    "    \n",
    "    \n",
    "    \n",
    "    "
   ]
  },
  {
   "cell_type": "code",
   "execution_count": 10,
   "id": "6e32f564",
   "metadata": {},
   "outputs": [
    {
     "name": "stdout",
     "output_type": "stream",
     "text": [
      "[1, 5, 3]\n",
      "[]\n"
     ]
    }
   ],
   "source": [
    "lista = [1, 5, 3]\n",
    "\n",
    "print(lista)\n",
    "\n",
    "lista = []\n",
    "\n",
    "print(lista)"
   ]
  },
  {
   "cell_type": "code",
   "execution_count": null,
   "id": "154f3edb",
   "metadata": {},
   "outputs": [],
   "source": []
  }
 ],
 "metadata": {
  "kernelspec": {
   "display_name": "Python 3 (ipykernel)",
   "language": "python",
   "name": "python3"
  },
  "language_info": {
   "codemirror_mode": {
    "name": "ipython",
    "version": 3
   },
   "file_extension": ".py",
   "mimetype": "text/x-python",
   "name": "python",
   "nbconvert_exporter": "python",
   "pygments_lexer": "ipython3",
   "version": "3.9.12"
  }
 },
 "nbformat": 4,
 "nbformat_minor": 5
}
