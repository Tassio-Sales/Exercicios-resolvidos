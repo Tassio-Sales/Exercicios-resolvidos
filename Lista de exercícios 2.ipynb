{
 "cells": [
  {
   "cell_type": "markdown",
   "id": "046f76ae",
   "metadata": {},
   "source": [
    "Lista de exercícios 2"
   ]
  },
  {
   "cell_type": "markdown",
   "id": "5116a0ff",
   "metadata": {},
   "source": [
    "1. Faça um Programa que peça um número e então mostre a mensagem: O número informado foi [número]. "
   ]
  },
  {
   "cell_type": "code",
   "execution_count": 1,
   "id": "e79519bc",
   "metadata": {
    "scrolled": false
   },
   "outputs": [
    {
     "name": "stdout",
     "output_type": "stream",
     "text": [
      "Digite um número: 2\n",
      "O número informado foi 2\n"
     ]
    }
   ],
   "source": [
    "numero = input('Digite um número: ')\n",
    "print('O número informado foi', numero)"
   ]
  },
  {
   "cell_type": "markdown",
   "id": "e283a359",
   "metadata": {},
   "source": [
    "2. Faça um Programa que peça dois números e imprima a soma."
   ]
  },
  {
   "cell_type": "code",
   "execution_count": 14,
   "id": "340ebfcc",
   "metadata": {
    "scrolled": true
   },
   "outputs": [
    {
     "name": "stdout",
     "output_type": "stream",
     "text": [
      "Digite o primeiro número da soma: 5\n",
      "Digite o segundo número da soma: 5.5\n",
      "A soma entre 5.0 e 5.5 é igual a 10.5\n"
     ]
    }
   ],
   "source": [
    "numero1 = float(input('Digite o primeiro número da soma: '))\n",
    "numero2 = float(input('Digite o segundo número da soma: '))\n",
    "soma = numero1 + numero2\n",
    "print('A soma entre {} e {} é igual a {}'.format(numero1, numero2, soma))"
   ]
  },
  {
   "cell_type": "markdown",
   "id": "ba8c43e4",
   "metadata": {},
   "source": [
    "3. Faça um Programa que peça as 4 notas bimestrais e mostre a média. "
   ]
  },
  {
   "cell_type": "code",
   "execution_count": 36,
   "id": "b43b0d2f",
   "metadata": {},
   "outputs": [
    {
     "name": "stdout",
     "output_type": "stream",
     "text": [
      "Digite a nota do primeiro bimestre: 7.7\n",
      "Digite a nota do segundo bimestre: 5.5\n",
      "Digite a nota do terceiro bimestre: 6.8\n",
      "Digite a nota do quarto bimestre: 7\n",
      "A média final é: 6.75\n"
     ]
    }
   ],
   "source": [
    "nota1 = float(input('Digite a nota do primeiro bimestre: '))\n",
    "nota2 = float(input('Digite a nota do segundo bimestre: '))\n",
    "nota3 = float(input('Digite a nota do terceiro bimestre: '))\n",
    "nota4 = float(input('Digite a nota do quarto bimestre: '))\n",
    "media = (nota1 + nota2 + nota3 + nota4)/4 \n",
    "print('A média final é:', media)"
   ]
  },
  {
   "cell_type": "markdown",
   "id": "dfbc552a",
   "metadata": {},
   "source": [
    "4. Faça um Programa que converta metros para centímetros. "
   ]
  },
  {
   "cell_type": "code",
   "execution_count": 10,
   "id": "139228ba",
   "metadata": {
    "scrolled": true
   },
   "outputs": [
    {
     "name": "stdout",
     "output_type": "stream",
     "text": [
      "Digite o valor em metros: 1\n",
      "O valor de 1.0 m é igual a 100.0 cm\n"
     ]
    }
   ],
   "source": [
    "metro = float(input('Digite o valor em metros: '))\n",
    "cm = metro * 100\n",
    "print(('O valor de {} m é igual a {} cm.').format(metro, cm))"
   ]
  },
  {
   "cell_type": "markdown",
   "id": "d507ba73",
   "metadata": {},
   "source": [
    "5. Faça um Programa que peça o raio de um círculo, calcule e mostre sua área. "
   ]
  },
  {
   "cell_type": "code",
   "execution_count": 39,
   "id": "0200b1a2",
   "metadata": {
    "scrolled": true
   },
   "outputs": [
    {
     "name": "stdout",
     "output_type": "stream",
     "text": [
      "Digite o valor do raio do círculo em cm: 4.2\n",
      "O valor da área do círculo é: 55.3896 cm²\n"
     ]
    }
   ],
   "source": [
    "raio = float(input('Digite o valor do raio do círculo em cm: '))\n",
    "area = 3.14 * raio**2\n",
    "print('O valor da área do círculo é:', area,'cm².')"
   ]
  },
  {
   "cell_type": "markdown",
   "id": "51b809cf",
   "metadata": {},
   "source": [
    "6. Faça um Programa que calcule a área de um quadrado, em seguida mostre o dobro desta área para o usuário. "
   ]
  },
  {
   "cell_type": "code",
   "execution_count": 41,
   "id": "b66a3551",
   "metadata": {},
   "outputs": [
    {
     "name": "stdout",
     "output_type": "stream",
     "text": [
      "Digite o lado do quadrado em cm: 1.2\n",
      "O valor da área do quadrado é: 1.44 cm²\n",
      "O dobro da área do quadrado é: 2.88 cm²\n"
     ]
    }
   ],
   "source": [
    "lado = float(input('Digite o lado do quadrado em cm: '))\n",
    "area = lado**2\n",
    "print('O valor da área do quadrado é:', area,'cm².')\n",
    "dobro = area*2\n",
    "print('O dobro da área do quadrado é:', dobro,'cm².')\n"
   ]
  },
  {
   "cell_type": "markdown",
   "id": "046e16db",
   "metadata": {},
   "source": [
    "7. Faça um Programa que pergunte quanto você ganha por hora e o número de horas trabalhadas no mês. Calcule e mostre o total do seu salário no referido mês."
   ]
  },
  {
   "cell_type": "code",
   "execution_count": 12,
   "id": "b3b8b250",
   "metadata": {
    "scrolled": true
   },
   "outputs": [
    {
     "name": "stdout",
     "output_type": "stream",
     "text": [
      "Informe o quanto em reais você ganha por hora: 50\n",
      "Informe o mês trabalhado: Janeiro\n",
      "Informe quantas horas você trabalhou no mês: 150\n",
      "O seu salário do mês de Janeiro foi de 7500.0 R$\n"
     ]
    }
   ],
   "source": [
    "ganho = float(input('Informe o quanto em reais você ganha por hora: '))\n",
    "mes = str(input('Informe o mês trabalhado: '))\n",
    "hora = (float(input('Informe quantas horas você trabalhou no mês: ')))\n",
    "salario = ganho * hora\n",
    "print('O seu salário do mês de {} foi de {} R$.'.format(mes, salario))"
   ]
  },
  {
   "cell_type": "markdown",
   "id": "dd2fd0ae",
   "metadata": {},
   "source": [
    "8. Faça um Programa que peça a temperatura em graus Farenheit, transforme e mostre a temperatura em graus Celsius. C = (5 * (F-32) / 9). "
   ]
  },
  {
   "cell_type": "code",
   "execution_count": 15,
   "id": "f1a6256e",
   "metadata": {},
   "outputs": [
    {
     "name": "stdout",
     "output_type": "stream",
     "text": [
      "Informe qual é a temperatura em graus Farenheit: 45\n",
      "A temperatura é de 7.222222222222222 C°\n"
     ]
    }
   ],
   "source": [
    "farenheit = float(input('Informe qual é a temperatura em graus Farenheit: '))\n",
    "celsius = (5*(farenheit - 32)/9)\n",
    "print('A temperatura é de', celsius,'C°.')"
   ]
  },
  {
   "cell_type": "markdown",
   "id": "3fe30892",
   "metadata": {},
   "source": [
    "9. Faça um Programa que peça a temperatura em graus Celsius, transforme e mostre em graus Farenheit."
   ]
  },
  {
   "cell_type": "code",
   "execution_count": 18,
   "id": "8f43925a",
   "metadata": {},
   "outputs": [
    {
     "name": "stdout",
     "output_type": "stream",
     "text": [
      "Informe qual é a temperatura em graus Celsius: 32\n",
      "A temperatura é de 89.6 F°\n"
     ]
    }
   ],
   "source": [
    "celsius = float(input('Informe qual é a temperatura em graus Celsius: '))\n",
    "farenheit = celsius * 1.8 + 32\n",
    "print('A temperatura é de', farenheit,'F°.')"
   ]
  },
  {
   "cell_type": "markdown",
   "id": "1c507263",
   "metadata": {},
   "source": [
    "10. Elaborar um algoritmo que efetue a apresentação do valor da conversão em real (R$) de um valor lido em dólar (US$). O algoritmo deverá solicitar o valor da cotação dodólar e também a quantidade de dólares disponíveis com o usuário."
   ]
  },
  {
   "cell_type": "code",
   "execution_count": 27,
   "id": "f1743431",
   "metadata": {},
   "outputs": [
    {
     "name": "stdout",
     "output_type": "stream",
     "text": [
      "Informe o valor em dólar que você possui: 200\n",
      "Informe a cotação atual: 4.96\n",
      "O valor em reais é de: 992.0 R$\n"
     ]
    }
   ],
   "source": [
    "dolar = float(input('Informe o valor em dólar que você possui: '))\n",
    "cotacao = float(input('Informe a cotação atual: '))\n",
    "reais = dolar * cotacao\n",
    "print('O valor em reais é de:', reais,'R$.')"
   ]
  },
  {
   "cell_type": "markdown",
   "id": "bf466c0b",
   "metadata": {},
   "source": [
    "11. Faça um algoritmo que receba um valor que foi depositado e exiba o valor com rendimento após um mês. Considere fixo o juro da poupança em 0,70% a. m."
   ]
  },
  {
   "cell_type": "code",
   "execution_count": 28,
   "id": "24480ed4",
   "metadata": {},
   "outputs": [
    {
     "name": "stdout",
     "output_type": "stream",
     "text": [
      "Informe o valor que você deseja depositar: 100\n",
      "Informe o período em meses que você deseja manter o depósito: 1\n",
      "O montante gerado esse período é de: 100.69999999999999 R$\n"
     ]
    }
   ],
   "source": [
    "deposito = float(input('Informe o valor que você deseja depositar: '))\n",
    "tempo = float(input('Informe o período em meses que você deseja manter o depósito: '))\n",
    "montante = deposito * (1+0.007)**tempo\n",
    "print('O montante gerado esse período é de:', montante,'R$.')"
   ]
  },
  {
   "cell_type": "markdown",
   "id": "53799906",
   "metadata": {},
   "source": [
    "12. A Loja Mamão com Açúcar está vendendo seus produtos em 5 (cinco) prestações sem juros. Faça um algoritmo que receba um valor de uma compra e mostre o valor das prestações."
   ]
  },
  {
   "cell_type": "code",
   "execution_count": 30,
   "id": "4ff80311",
   "metadata": {},
   "outputs": [
    {
     "name": "stdout",
     "output_type": "stream",
     "text": [
      "Informe o valor da compra: 50\n",
      "A compra pode ser parcelada em até 5 vezes de 10.0 R$ sem juros\n"
     ]
    }
   ],
   "source": [
    "compra = float(input('Informe o valor da compra: '))\n",
    "parcela = compra/5\n",
    "print('A compra pode ser parcelada em até 5 vezes de', parcela,'R$ sem juros.')"
   ]
  },
  {
   "cell_type": "markdown",
   "id": "dddbaada",
   "metadata": {},
   "source": [
    "13. Faça um algoritmo que receba o preço de custo de um produto e mostre o valor de venda. Sabe-se que o preço de custo receberá um acréscimo de acordo com um percentual informado pelo usuário."
   ]
  },
  {
   "cell_type": "code",
   "execution_count": 35,
   "id": "8f841f89",
   "metadata": {},
   "outputs": [
    {
     "name": "stdout",
     "output_type": "stream",
     "text": [
      "Informe o valor de custo do produto: 20\n",
      "Informe o percentual de venda: 0.5\n",
      "O valor de venda do produto será: 30.0 R$\n"
     ]
    }
   ],
   "source": [
    "custo = float(input('Informe o valor de custo do produto: '))\n",
    "lucro = float(input('Informe o percentual de venda: '))\n",
    "venda = custo + custo * lucro\n",
    "print('O valor de venda do produto será:', venda,'R$')"
   ]
  },
  {
   "cell_type": "markdown",
   "id": "4acfd2a5",
   "metadata": {},
   "source": [
    "14. Escrever um algoritmo para determinar o consumo médio de um automóvel sendo fornecida a distância total percorrida pelo automóvel e o total de combustível gasto."
   ]
  },
  {
   "cell_type": "code",
   "execution_count": 2,
   "id": "ba4b9ba3",
   "metadata": {},
   "outputs": [
    {
     "name": "stdout",
     "output_type": "stream",
     "text": [
      "Informe a distancia percorrida em km: 100\n",
      "Informe a quantidade em litros de combustível consimudo: 50\n",
      "O consumo médio desse automóvel é de: 0.5 L/km\n"
     ]
    }
   ],
   "source": [
    "distancia = float(input('Informe a distancia percorrida em km: '))\n",
    "consumo = float(input('Informe a quantidade em litros de combustível consimudo: ')) \n",
    "media = consumo/distancia\n",
    "print('O consumo médio desse automóvel é de:', media,'L/km')"
   ]
  },
  {
   "cell_type": "markdown",
   "id": "04299ffe",
   "metadata": {},
   "source": [
    "15. Escreva um programa que leia três números inteiros e positivos (A, B, C) e calcule a seguinte expressão: \n",
    "\n",
    "D = (R+S)/2; onde R = (A+B)² e S = (B+C)²"
   ]
  },
  {
   "cell_type": "code",
   "execution_count": 3,
   "id": "fd656020",
   "metadata": {},
   "outputs": [
    {
     "name": "stdout",
     "output_type": "stream",
     "text": [
      "Informe o valor de A: 2\n",
      "Informe o valor de B: 1\n",
      "Informe o valor de C: 2\n",
      "O valor da expressão D = (R + S)/2, onde R = (A + B)² e S = (B + C)² é igual a: 9.0\n"
     ]
    }
   ],
   "source": [
    "a = int(input('Informe o valor de A, sendo ele um número inteiro e positivo: '))\n",
    "b = int(input('Informe o valor de B, sendo ele um número inteiro e positivo: '))\n",
    "c = int(input('Informe o valor de C, sendo ele um número inteiro e positivo: '))\n",
    "d = ((a + b)**2 + (b + c)**2)/2\n",
    "print('O valor da expressão D = (R + S)/2, onde R = (A + B)² e S = (B + C)² é igual a:', d)"
   ]
  },
  {
   "cell_type": "markdown",
   "id": "9ce00143",
   "metadata": {},
   "source": [
    "16. Escrever um algoritmo que leia o nome de um vendedor, o seu salário fixo e o total de vendas efetuadas por ele no mês (em dinheiro). Sabendo que este vendedor ganha 15% de comissão sobre suas vendas efetuadas, informar o seu nome, o salário fixo e salário no final do mês."
   ]
  },
  {
   "cell_type": "code",
   "execution_count": 12,
   "id": "7d3b1aeb",
   "metadata": {},
   "outputs": [
    {
     "name": "stdout",
     "output_type": "stream",
     "text": [
      "Informe o nome do vendedor: Tássio\n",
      "Informe o salário base: 1000\n",
      "Informe o valor total das vendas realizadas no mês atual: 1000\n",
      "Vendedor: Tássio\n",
      "Salário base: 1000.0 R$\n",
      "Salário final: 1150.0 R$\n"
     ]
    }
   ],
   "source": [
    "nome = str(input('Informe o nome do vendedor: '))\n",
    "salarioI = float(input('Informe o salário base: '))\n",
    "vendas = float(input('Informe o valor total das vendas realizadas no mês atual: '))\n",
    "salarioF = salarioI + vendas*0.15\n",
    "print('Vendedor:', nome)\n",
    "print('Salário base:', salarioI,'R$')\n",
    "print('Salário final:', salarioF,'R$')    \n",
    "      "
   ]
  },
  {
   "cell_type": "markdown",
   "id": "1e00995a",
   "metadata": {},
   "source": [
    "17. Faça um Programa que peça 2 números inteiros e um número real. Calcule e mostre: \n",
    "\n",
    "- O produto do dobro do primeiro com metade do segundo;\n",
    "- A soma do triplo do primeiro com o terceiro; \n",
    "- O terceiro elevado ao cubo."
   ]
  },
  {
   "cell_type": "code",
   "execution_count": 14,
   "id": "d29af1c5",
   "metadata": {},
   "outputs": [
    {
     "name": "stdout",
     "output_type": "stream",
     "text": [
      "Informe o primeiro número inteiro: 2\n",
      "Informe o segundo número inteiro: 3\n",
      "Informe um número real: 4.5\n",
      "O produto do dobro do primeiro com metade do segundo é igual a: 6.0\n",
      "A soma do triplo do primeiro com o terceiro é igual a: 10.5\n",
      "O terceiro elevado ao cubo é igual a: 91.125\n"
     ]
    }
   ],
   "source": [
    "numero1 = int(input('Informe o primeiro número inteiro: '))\n",
    "numero2 = int(input('Informe o segundo número inteiro: '))\n",
    "numero3 = float(input('Informe um número real: '))\n",
    "calculo1 = (numero1*2) * (numero2/2)\n",
    "calculo2 = numero1*3 + numero3\n",
    "calculo3 = numero3**3\n",
    "print('O produto do dobro do primeiro com metade do segundo é igual a:', calculo1)\n",
    "print('A soma do triplo do primeiro com o terceiro é igual a:', calculo2)\n",
    "print('O terceiro elevado ao cubo é igual a:', calculo3)\n",
    "\n",
    "\n"
   ]
  },
  {
   "cell_type": "markdown",
   "id": "a2fc813e",
   "metadata": {},
   "source": [
    "18. Tendo como dados de entrada a altura de uma pessoa, construa um algoritmo que calcule seu peso ideal, usando a seguinte fórmula: (72.7*altura) – 58."
   ]
  },
  {
   "cell_type": "code",
   "execution_count": 15,
   "id": "0d555146",
   "metadata": {},
   "outputs": [
    {
     "name": "stdout",
     "output_type": "stream",
     "text": [
      "Informe a sua altura: 1.8\n",
      "O seu peso ideal é: 72.86000000000001 Kg\n"
     ]
    }
   ],
   "source": [
    "altura = float(input('Informe a sua altura em metros: '))\n",
    "peso = 72.7*altura - 58\n",
    "print('O seu peso ideal é:', peso,'Kg')"
   ]
  },
  {
   "cell_type": "markdown",
   "id": "f381f6c3",
   "metadata": {},
   "source": [
    "19. Faça um programa que peça o tamanho de um arquivo para download (em MB) e a velocidade de um link de Internet (em MBps), calcule e informe o tempo aproximado de download do arquivo usando este link (em minutos)."
   ]
  },
  {
   "cell_type": "code",
   "execution_count": 17,
   "id": "b7064c39",
   "metadata": {},
   "outputs": [
    {
     "name": "stdout",
     "output_type": "stream",
     "text": [
      "Informe o tamanho do arquivo em MB: 6000\n",
      "Informe a velocidade da internet em MBps1\n",
      "O tempo aproximado para download do arquivo é de 100.0 min\n"
     ]
    }
   ],
   "source": [
    "arquivo = float(input('Informe o tamanho do arquivo em MB: '))\n",
    "velocidade = float(input('Informe a velocidade da internet em MBps'))\n",
    "tempo = (arquivo/velocidade)/60\n",
    "print('O tempo aproximado para download do arquivo é de', tempo,'min')"
   ]
  },
  {
   "cell_type": "markdown",
   "id": "31472208",
   "metadata": {},
   "source": [
    "20. Ler dois valores para as variáveis A e B, e efetuar as trocas dos valores de forma que a variável A passe a possuir o valor da variável B e a variável B passe a possuir o valor da variável A. Apresentar os valores trocados."
   ]
  },
  {
   "cell_type": "code",
   "execution_count": 20,
   "id": "57be44bb",
   "metadata": {},
   "outputs": [
    {
     "name": "stdout",
     "output_type": "stream",
     "text": [
      "Informe o valor de A: 1\n",
      "Informe o valor de B: 2\n",
      "O valores de A e B são 2.0 e 1.0\n"
     ]
    }
   ],
   "source": [
    "a = float(input('Informe o valor de A: '))\n",
    "b = float(input('Informe o valor de B: '))\n",
    "c = b\n",
    "b = a\n",
    "a = c\n",
    "print('O valores de A e B são {} e {}'.format(a, b))\n"
   ]
  },
  {
   "cell_type": "markdown",
   "id": "fdb80b70",
   "metadata": {},
   "source": [
    "21. Faça um Programa que pergunte quanto você ganha por hora e o número de horas trabalhadas no mês. Calcule e mostre o total do seu salário no referido mês, sabendose que são descontados 11% para o Imposto de Renda, 8% para o INSS e 5% para o sindicato, faça um programa que nos dê:\n",
    "\n",
    "a) salário bruto.\n",
    "b) quanto pagou ao INSS.\n",
    "c) quanto pagou ao sindicato.\n",
    "d) o salário líquido.\n",
    "e) calcule os descontos e o salário líquido, conforme a tabela abaixo:\n",
    "\n",
    "Salário Bruto : R$\n",
    "IR (11%) : R$\n",
    "INSS (8%) : R$\n",
    "Sindicato ( 5%) : R$\n",
    "Salário Liquido : R$\n",
    "\n",
    "Obs.: Salário Bruto - Descontos = Salário Líquido."
   ]
  },
  {
   "cell_type": "code",
   "execution_count": 1,
   "id": "5ddd929b",
   "metadata": {},
   "outputs": [
    {
     "name": "stdout",
     "output_type": "stream",
     "text": [
      "Informe quanto você ganha por hora: 10\n",
      "Informe o número de horas trabalhadas no êms: 100\n",
      "Salário Bruto: R$ 1000.0\n",
      "IR (11%): R$ 110.0\n",
      "INSS (8%): R$ 80.0\n",
      "Sindicato ( 5%): R$ 50.0\n",
      "Salário Líquido: R$ 760.0\n"
     ]
    }
   ],
   "source": [
    "ganhoHr = float(input('Informe quanto você ganha por hora: '))\n",
    "hrPorMes = float(input('Informe o número de horas trabalhadas no mês: '))\n",
    "salarioB = ganhoHr*hrPorMes\n",
    "impRenda = salarioB*0.11\n",
    "inss = salarioB*0.08\n",
    "sindicato = salarioB*0.05\n",
    "salarioL = salarioB - impRenda - inss - sindicato\n",
    "\n",
    "print('Salário Bruto: R$',salarioB)\n",
    "print('IR (11%): R$',impRenda)\n",
    "print('INSS (8%): R$',inss)\n",
    "print('Sindicato ( 5%): R$',sindicato)\n",
    "print('Salário Líquido: R$',salarioL)\n"
   ]
  }
 ],
 "metadata": {
  "kernelspec": {
   "display_name": "Python 3 (ipykernel)",
   "language": "python",
   "name": "python3"
  },
  "language_info": {
   "codemirror_mode": {
    "name": "ipython",
    "version": 3
   },
   "file_extension": ".py",
   "mimetype": "text/x-python",
   "name": "python",
   "nbconvert_exporter": "python",
   "pygments_lexer": "ipython3",
   "version": "3.9.12"
  }
 },
 "nbformat": 4,
 "nbformat_minor": 5
}
