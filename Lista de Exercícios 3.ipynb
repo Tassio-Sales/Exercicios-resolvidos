{
 "cells": [
  {
   "cell_type": "markdown",
   "id": "9e2c90f6",
   "metadata": {},
   "source": [
    "Lista de Exercícios 3"
   ]
  },
  {
   "cell_type": "markdown",
   "id": "c790d31d",
   "metadata": {},
   "source": [
    "1. Faça um Programa que peça dois números e imprima o maior deles. "
   ]
  },
  {
   "cell_type": "code",
   "execution_count": null,
   "id": "fd774df9",
   "metadata": {},
   "outputs": [],
   "source": [
    "num1 = float(input('Informe o primeiro número: '))\n",
    "num2 = float(input('Informe o segundo número: '))\n",
    "\n",
    "if num1 > num2:\n",
    "    print ('O maior número é:',num1)\n",
    "elif num2 > num1:\n",
    "    print ('O maior número é:',num2)\n",
    "else:\n",
    "    print ('Os números são iguais!')\n"
   ]
  },
  {
   "cell_type": "markdown",
   "id": "8f34e298",
   "metadata": {},
   "source": [
    "2. Faça um Programa que peça um valor e mostre na tela se o valor é positivo ou negativo. "
   ]
  },
  {
   "cell_type": "code",
   "execution_count": null,
   "id": "12852e2b",
   "metadata": {},
   "outputs": [],
   "source": [
    "valor = float(input('Informe um valor: '))\n",
    "if valor == 0:\n",
    "    print ('O número é neutro!')\n",
    "elif valor > 0:\n",
    "    print ('O número é positivo!')\n",
    "else:\n",
    "    print('O número é negativo!')\n"
   ]
  },
  {
   "cell_type": "markdown",
   "id": "d59533c6",
   "metadata": {},
   "source": [
    "3. Faça um Programa que verifique se uma letra digitada é \"F\" ou \"M\". Conforme a letra escrever: F - Feminino, M - Masculino, Sexo Inválido. "
   ]
  },
  {
   "cell_type": "code",
   "execution_count": 46,
   "id": "02cc2b1e",
   "metadata": {},
   "outputs": [
    {
     "name": "stdout",
     "output_type": "stream",
     "text": [
      "Informe \"F\" para feminino ou \"M\" para masculino: 7\n",
      "Sexo inválido\n"
     ]
    }
   ],
   "source": [
    "\n",
    "sex = input('Informe \"F\" para feminino ou \"M\" para masculino: ').upper()\n",
    "if sex == 'F':\n",
    "    print('F - Feminino')\n",
    "elif sex == 'M':\n",
    "    print('M - Masculino')\n",
    "else:\n",
    "    print('Sexo inválido')\n",
    "    "
   ]
  },
  {
   "cell_type": "markdown",
   "id": "3c6c8a60",
   "metadata": {},
   "source": [
    "4. Faça um programa para a leitura de duas notas parciais de um aluno. O programa deve calcular a média alcançada por aluno e apresentar: \n",
    "\n",
    "- A mensagem \"Aprovado\", se a média alcançada for maior ou igual a sete;\n",
    "- A mensagem \"Reprovado\", se a média for menor do que sete;\n",
    "- A mensagem \"Aprovado com Distinção\", se a média for igual a dez. "
   ]
  },
  {
   "cell_type": "code",
   "execution_count": 22,
   "id": "c7160d29",
   "metadata": {},
   "outputs": [
    {
     "name": "stdout",
     "output_type": "stream",
     "text": [
      "Informe a nota do primeiro bimestre: 8.16548\n",
      "Informe a nota do segundo bimestre: 7.156486\n",
      "Sua média foi 7.66! Aprovado!\n"
     ]
    }
   ],
   "source": [
    "nota1 = float(input('Informe a nota do primeiro bimestre: '))\n",
    "nota2 = float(input('Informe a nota do segundo bimestre: '))\n",
    "media = (nota1 + nota2) / 2\n",
    "if media == 10:\n",
    "    print('Sua média foi {:.2f}! Aprovado com distinção!'.format(media))\n",
    "elif 10 > media >= 7:\n",
    "    print('Sua média foi {:.2f}! Aprovado!'.format(media))\n",
    "else:\n",
    "    print('Sua média foi {:.2f}! Reprovado!'.format(media))"
   ]
  },
  {
   "cell_type": "markdown",
   "id": "70a61d06",
   "metadata": {},
   "source": [
    "5. Faça um Programa que leia três números e mostre o maior deles. "
   ]
  },
  {
   "cell_type": "code",
   "execution_count": 1,
   "id": "d0a46df5",
   "metadata": {},
   "outputs": [
    {
     "name": "stdout",
     "output_type": "stream",
     "text": [
      "Informe o primeiro número: 1\n",
      "Informe o segundo número: 2\n",
      "Informe o terceiro número: 3\n",
      "O terceiro número 3.0 é o maior dentre os informados!\n"
     ]
    }
   ],
   "source": [
    "num1 = float(input('Informe o primeiro número: '))\n",
    "num2 = float(input('Informe o segundo número: '))\n",
    "num3 = float(input('Informe o terceiro número: '))\n",
    "if num1 == num2 == num3:\n",
    "    print('Os 3 números informados são iguais!')\n",
    "elif  num2 < num1 > num3:\n",
    "    print ('O primeiro número {} é o maior dentre os informados!'.format(num1))\n",
    "elif  num1 < num2 > num3:\n",
    "    print ('O segundo número {} é o maior dentre os informados!'.format(num2))\n",
    "elif num1 == num2 > num3:\n",
    "    print('O primeiro número {} e o segundo número {} são iguais e maiores que o terceiro!'.format(num1, num2))\n",
    "elif num1 == num3 > num2:\n",
    "    print('O primeiro número {} e o terceiro número {} são iguais e maiores que o segundo!'.format(num1, num3))\n",
    "elif num2 == num3 > num1:\n",
    "    print('O segundo número {} e o terceiro número {} são iguais e maiores que o primeiro!'.format(num2, num3))\n",
    "else:\n",
    "    print ('O terceiro número {} é o maior dentre os informados!'.format(num3))"
   ]
  },
  {
   "cell_type": "markdown",
   "id": "872e90ba",
   "metadata": {},
   "source": [
    "6. Faça um programa que pergunte o preço de três produtos e informe qual produto você deve comprar, sabendo que a decisão é sempre pelo mais barato. "
   ]
  },
  {
   "cell_type": "code",
   "execution_count": 72,
   "id": "3df57adc",
   "metadata": {},
   "outputs": [
    {
     "name": "stdout",
     "output_type": "stream",
     "text": [
      "Informe o preço do primeiro produto: R$8\n",
      "Informe o preço do segundo produto: R$8\n",
      "Informe o preço do terceiro produto: R$20\n",
      "O primeiro produto no valor de 8.0R$ e o segundo produto no valor de 8.0R$ são iguais e mais baratos que o terceiro!\n"
     ]
    }
   ],
   "source": [
    "preco1 = float(input('Informe o preço do primeiro produto: R$'))\n",
    "preco2 = float(input('Informe o preço do segundo produto: R$'))\n",
    "preco3 = float(input('Informe o preço do terceiro produto: R$'))\n",
    "if preco1 == preco2 == preco3:\n",
    "    print('Os 3 produtos informados possuem preços iguais!')\n",
    "elif  preco2 > preco1 < preco3:\n",
    "    print ('O primeiro produto no valor de {}R$ é o mais barato dentre os informados!'.format(preco1))\n",
    "elif  preco1 > preco2 < preco3:\n",
    "    print ('O segundo produto no valor de {}R$ é o mais barato dentre os informados!'.format(preco2))\n",
    "elif preco1 == preco2 < preco3:\n",
    "    print('O primeiro produto no valor de {}R$ e o segundo produto no valor de {}R$ são iguais e mais baratos que o terceiro!'.format(preco1, preco2))\n",
    "elif preco1 == preco3 < preco2:\n",
    "    print('O primeiro produto no valor de {}R$ e o terceiro produto no valor de {}R$ são iguais e mais baratos que o segundo!'.format(preco1, preco3))\n",
    "elif preco2 == preco3 < preco1:\n",
    "    print('O segundo produto no valor de {}R$ e o terceiro produto no valor de {}R$ são iguais e mais baratos que o primeiro!'.format(preco2, preco3))\n",
    "else:\n",
    "    print ('O terceiro produto no valor de {}R$ é o mais barato dentre os informados!'.format(preco3))"
   ]
  },
  {
   "cell_type": "markdown",
   "id": "3a34b97b",
   "metadata": {},
   "source": [
    "7. Faça um Programa que pergunte em que turno você estuda. Peça para digitar Mmatutino ou V-Vespertino ou N- Noturno. Imprima a mensagem \"Bom Dia!\", \"Boa Tarde!\" ou \"Boa Noite!\" ou \"Valor Inválido!\", conforme o caso. "
   ]
  },
  {
   "cell_type": "code",
   "execution_count": 83,
   "id": "fca7604d",
   "metadata": {},
   "outputs": [
    {
     "name": "stdout",
     "output_type": "stream",
     "text": [
      "Informe o seu turno de acordo com as seguintes opções:\n",
      "\n",
      "    M - Matutino\n",
      "    V - Vespertino\n",
      "    N - Noturno\n",
      "    \n",
      "    g\n",
      "Valor inválido!\n"
     ]
    }
   ],
   "source": [
    "turno = input('''Informe o seu turno de acordo com as seguintes opções:\n",
    "\n",
    "    M - Matutino\n",
    "    V - Vespertino\n",
    "    N - Noturno\n",
    "    \n",
    "    ''').upper()\n",
    "if turno == 'M':\n",
    "    print ('Bom dia!')\n",
    "elif turno == 'V':\n",
    "    print ('Boa tarde!')\n",
    "elif turno == 'N':\n",
    "    print ('Boa Noite!')\n",
    "else:\n",
    "    print ('Valor inválido!')\n"
   ]
  },
  {
   "cell_type": "markdown",
   "id": "1a182403",
   "metadata": {},
   "source": [
    "8. As Organizações Tabajara resolveram dar um aumento de salário aos seus colaboradores e lhe contrataram para desenvolver o programa que calculará os reajustes. Faça um programa que recebe o salário de um colaborador e o reajuste segundo o seguinte critério, baseado no salário atual:\n",
    "\n",
    "- Salários até R$ 280,00 (incluindo): aumento de 20% \n",
    "- Salários entre R$ 280,00 e R$ 700,00: aumento de 15%\n",
    "- Salários entre R$ 700,00 e R$ 1500,00: aumento de 10%\n",
    "- Salários de R$ 1500,00 em diante: aumento de 5%\n",
    "\n",
    "Após o aumento ser realizado, informe na tela:\n",
    "\n",
    "- O salário antes do reajuste;\n",
    "- O percentual de aumento aplicado; \n",
    "- O valor do aumento;\n",
    "- O novo salário, após o aumento. "
   ]
  },
  {
   "cell_type": "code",
   "execution_count": 94,
   "id": "4f483fed",
   "metadata": {},
   "outputs": [
    {
     "name": "stdout",
     "output_type": "stream",
     "text": [
      "Informe o seu salário atual: R$1500\n",
      "Salário antes do reajuste: R$ 1500.0\n",
      "O percentual de aumento aplicado foi de 5%\n",
      "O valor do aumento foi de R$ 75.0\n",
      "O seu novo salário é R$ 1575.0\n"
     ]
    }
   ],
   "source": [
    "salarioA = float(input(('Informe o seu salário atual: R$')))\n",
    "if salarioA <= 280:\n",
    "    aumento = salarioA * 0.2\n",
    "    salarioN = salarioA + aumento\n",
    "    print('Salário antes do reajuste: R$',salarioA)\n",
    "    print('O percentual de aumento aplicado foi de 20%')\n",
    "    print('O valor do aumento foi de R$',aumento)\n",
    "    print('O seu novo salário é R$',salarioN)    \n",
    "elif salarioA < 700:\n",
    "    aumento = salarioA * 0.15\n",
    "    salarioN = salarioA + aumento\n",
    "    print('Salário antes do reajuste: R$',salarioA)\n",
    "    print('O percentual de aumento aplicado foi de 15%')\n",
    "    print('O valor do aumento foi de R$',aumento)\n",
    "    print('O seu novo salário é R$',salarioN) \n",
    "elif salarioA < 1500:\n",
    "    aumento = salarioA * 0.1\n",
    "    salarioN = salarioA + aumento\n",
    "    print('Salário antes do reajuste: R$',salarioA)\n",
    "    print('O percentual de aumento aplicado foi de 10%')\n",
    "    print('O valor do aumento foi de R$',aumento)\n",
    "    print('O seu novo salário é R$',salarioN) \n",
    "else:\n",
    "    aumento = salarioA * 0.05\n",
    "    salarioN = salarioA + aumento\n",
    "    print('Salário antes do reajuste: R$',salarioA)\n",
    "    print('O percentual de aumento aplicado foi de 5%')\n",
    "    print('O valor do aumento foi de R$',aumento)\n",
    "    print('O seu novo salário é R$',salarioN) \n",
    "    "
   ]
  },
  {
   "cell_type": "markdown",
   "id": "1d7b556f",
   "metadata": {},
   "source": [
    "9. Faça um programa para o cálculo de uma folha de pagamento, sabendo que os descontos são do Imposto de Renda, que depende do salário bruto (conforme tabela abaixo) e 3% para o Sindicato e que o FGTS corresponde a 11% do Salário Bruto, mas não é descontado (é a empresa que deposita). O Salário Líquido corresponde ao Salário Bruto menos os descontos. O programa deverá pedir ao usuário o valor da sua hora e a quantidade de horas trabalhadas no mês. Desconto do IR:\n",
    "\n",
    "- Salário Bruto até 900 (inclusive): isento\n",
    "- Salário Bruto até 1500 (inclusive): desconto de 5%\n",
    "- Salário Bruto até 2500 (inclusive): desconto de 10%\n",
    "- Salário Bruto acima de 2500: desconto de 20%\n",
    "\n",
    "Imprima na tela as informações, dispostas conforme o exemplo abaixo. No exemplo o valor da hora é 5 e a quantidade de hora é 220.\n",
    "\n",
    "Salário Bruto: (5 * 220) : R$ 1100,00\n",
    " (-) IR (5%) : R$ 55,00\n",
    " (-) INSS ( 10%) : R$ 110,00\n",
    " FGTS (11%) : R$ 121,00\n",
    " Total de descontos : R$ 165,00\n",
    "Salário Liquido : R$ 935,00"
   ]
  },
  {
   "cell_type": "code",
   "execution_count": 124,
   "id": "c6d247e2",
   "metadata": {},
   "outputs": [
    {
     "name": "stdout",
     "output_type": "stream",
     "text": [
      "Informe o valor da hora trabalhada: R$10\n",
      "Informe o número de horas trabalhadas: 130\n",
      "Salário Bruto: (10 * 130)                    : R$ 1300.00\n",
      "(-) IR (5%)                                  : R$ 65.00\n",
      "(-) INSS (10%)                               : R$ 130.00\n",
      "(-) Sindicato (3%)                           : R$ 39.00\n",
      "FGTS (11%)                                   : R$ 143.00\n",
      "Total de descontos                           : R$ 169.0\n",
      "    Salário Líquido                              : 1131.00\n"
     ]
    }
   ],
   "source": [
    "valorHr = float(input('Informe o valor da hora trabalhada: R$'))\n",
    "hrMes = float(input('Informe o número de horas trabalhadas: '))\n",
    "salarioB = valorHr * hrMes\n",
    "sindicato = salarioB * 0.03\n",
    "inss = salarioB * 0.1\n",
    "descontos = sindicato + inss\n",
    "fgts = salarioB * 0.11\n",
    "impRenda = 0\n",
    "salarioL = salarioB - descontos - impRenda\n",
    "if salarioB <= 900:\n",
    "    print ('Salário Bruto: ({:.0f} * {:.0f})                    : R$ {:.2f}'.format(valorHr, hrMes, salarioB))\n",
    "    print ('(-) IR (0%)                                 : R$ 0,00')\n",
    "    print ('(-) INSS (10%)                              : R$ {:.2f}'.format(inss))\n",
    "    print ('(-) Sindicato (3%)                          : R$ {:.2f}'.format(sindicato))\n",
    "    print ('FGTS (11%)                                  : R$ {:.2f}'.format(fgts))\n",
    "    print ('Total de descontos                          : R$ {}'.format(descontos))\n",
    "    print ('    Salário Líquido                             : {:.2f}'.format(salarioL))\n",
    "elif salarioB <= 1500:\n",
    "    impRenda = salarioB * 0.05\n",
    "    print ('Salário Bruto: ({:.0f} * {:.0f})                    : R$ {:.2f}'.format(valorHr, hrMes, salarioB))\n",
    "    print ('(-) IR (5%)                                  : R$ {:.2f}'.format(impRenda))\n",
    "    print ('(-) INSS (10%)                               : R$ {:.2f}'.format(inss))\n",
    "    print ('(-) Sindicato (3%)                           : R$ {:.2f}'.format(sindicato))\n",
    "    print ('FGTS (11%)                                   : R$ {:.2f}'.format(fgts))\n",
    "    print ('Total de descontos                           : R$ {}'.format(descontos))\n",
    "    print ('    Salário Líquido                              : {:.2f}'.format(salarioL))\n",
    "elif salarioB <= 2500:\n",
    "    impRenda = salarioB * 0.1\n",
    "    print ('Salário Bruto: ({:.0f} * {:.0f})                    : R$ {:.2f}'.format(valorHr, hrMes, salarioB))\n",
    "    print ('(-) IR (10%)                                 : R$ {:.2f}'.format(impRenda))\n",
    "    print ('(-) INSS (10%)                               : R$ {:.2f}'.format(inss))\n",
    "    print ('(-) Sindicato (3%)                           : R$ {:.2f}'.format(sindicato))\n",
    "    print ('FGTS (11%)                                   : R$ {:.2f}'.format(fgts))\n",
    "    print ('Total de descontos                           : R$ {}'.format(descontos))\n",
    "    print ('    Salário Líquido                              : {:.2f}'.format(salarioL))\n",
    "else:\n",
    "    impRenda = salarioB * 0.2\n",
    "    print ('Salário Bruto: ({:.0f} * {:.0f})                     : R$ {:.2f}'.format(valorHr, hrMes, salarioB))\n",
    "    print ('(-) IR (20%)                                  : R$ {:.2f}'.format(impRenda))\n",
    "    print ('(-) INSS (10%)                                : R$ {:.2f}'.format(inss))\n",
    "    print ('(-) Sindicato (3%)                            : R$ {:.2f}'.format(sindicato))\n",
    "    print ('FGTS (11%)                                    : R$ {:.2f}'.format(fgts))\n",
    "    print ('Total de descontos                            : R$ {}'.format(descontos))\n",
    "    print ('    Salário Líquido                               : {:.2f}'.format(salarioL))"
   ]
  },
  {
   "cell_type": "markdown",
   "id": "b5c954ab",
   "metadata": {},
   "source": [
    "10. Faça um Programa que leia um número e exiba o dia correspondente da semana. (1-Domingo, 2- Segunda, etc.), se digitar outro valor deve aparecer valor inválido. "
   ]
  },
  {
   "cell_type": "code",
   "execution_count": 141,
   "id": "02ab12c1",
   "metadata": {},
   "outputs": [
    {
     "name": "stdout",
     "output_type": "stream",
     "text": [
      "Informe um número inteiro: j\n",
      "Valor inválido\n"
     ]
    }
   ],
   "source": [
    "num = input('Informe um número inteiro: ')\n",
    "if num == '1':\n",
    "    print ('Hoje é domingo!')\n",
    "elif num == '2':\n",
    "    print ('Hoje é segunda!')\n",
    "elif num == '3':\n",
    "    print ('Hoje é terça!')\n",
    "elif num == '4':\n",
    "    print ('Hoje é quarta!')\n",
    "elif num == '5':\n",
    "    print ('Hoje é quinta!')\n",
    "elif num == '6':\n",
    "    print ('Hoje é sexta!')\n",
    "elif num == '7':\n",
    "    print ('Hoje é sábado!')\n",
    "else:\n",
    "    print ('Valor inválido')"
   ]
  },
  {
   "cell_type": "markdown",
   "id": "df1eb1d6",
   "metadata": {},
   "source": [
    "11. Faça um programa que lê as duas notas parciais obtidas por um aluno numa disciplina ao longo de um semestre, e calcule a sua média. A atribuição de conceitos obedece à tabela abaixo:\n",
    "\n",
    "Média de Aproveitamento - Conceito\n",
    "- Entre 9.0 e 10.0           A\n",
    "- Entre 7.5 e 9.0            B\n",
    "- Entre 6.0 e 7.5            C\n",
    "- Entre 4.0 e 6.0            D\n",
    "- Entre 4.0 e zero           E\n",
    "\n",
    "O algoritmo deve mostrar na tela as notas, a média, o conceito correspondente e a mensagem “APROVADO” se o conceito for A, B ou C ou “REPROVADO” se o conceito for D ou E."
   ]
  },
  {
   "cell_type": "code",
   "execution_count": 161,
   "id": "2bd91a00",
   "metadata": {},
   "outputs": [
    {
     "name": "stdout",
     "output_type": "stream",
     "text": [
      "Informe a primeira nota parcial: 4\n",
      "Informe a segunda nota parcial: 4\n",
      "       ---- Notas parciais -------- Média de aproventamento ------ Conceito ------ Resultado   \n",
      "              \n",
      "            4.00 e 4.00                     4.00                       E           REPROVADO\n"
     ]
    }
   ],
   "source": [
    "nota1 = float(input('Informe a primeira nota parcial: '))\n",
    "nota2 = float(input('Informe a segunda nota parcial: '))\n",
    "media = (nota1 + nota2) / 2\n",
    "if 9 < media:\n",
    "    print (('''       ---- Notas parciais -------- Média de aproventamento ------ Conceito ------ Resultado   \n",
    "              \n",
    "            {:.2f} e {:.2f}                     {:.2f}                    A           APROVADO''').format(nota1, nota2, media)) \n",
    "elif 7.5 < media:\n",
    "    print (('''       ---- Notas parciais -------- Média de aproventamento ------ Conceito ------ Resultado   \n",
    "              \n",
    "            {:.2f} e {:.2f}                     {:.2f}                       B           APROVADO''').format(nota1, nota2, media))\n",
    "elif 6 < media:\n",
    "    print (('''       ---- Notas parciais -------- Média de aproventamento ------ Conceito ------ Resultado   \n",
    "              \n",
    "            {:.2f} e {:.2f}                     {:.2f}                       C           APROVADO''').format(nota1, nota2, media))  \n",
    "elif 4 < media:\n",
    "    print (('''       ---- Notas parciais -------- Média de aproventamento ------ Conceito ------ Resultado   \n",
    "              \n",
    "            {:.2f} e {:.2f}                     {:.2f}                       D           REPROVADO''').format(nota1, nota2, media))\n",
    "else:\n",
    "    print (('''       ---- Notas parciais -------- Média de aproventamento ------ Conceito ------ Resultado   \n",
    "              \n",
    "            {:.2f} e {:.2f}                     {:.2f}                       E           REPROVADO''').format(nota1, nota2, media))  \n",
    "                 \n",
    "                 \n",
    "                 \n",
    "                 "
   ]
  },
  {
   "cell_type": "markdown",
   "id": "ce082a37",
   "metadata": {},
   "source": [
    "12. Faça um Programa que peça os 3 lados de um triângulo. O programa deverá informar se os valores podem ser um triângulo. Indique, caso os lados formem um triângulo, se o mesmo é: equilátero, isósceles ou escaleno. "
   ]
  },
  {
   "cell_type": "code",
   "execution_count": 178,
   "id": "abef6366",
   "metadata": {},
   "outputs": [
    {
     "name": "stdout",
     "output_type": "stream",
     "text": [
      "Informe o primeiro lado do triângulo: 4\n",
      "Informe o segundo lado do triângulo: 5\n",
      "Informe o terceiro lado do triângulo: 3\n",
      "As medidas 4.0, 5.0 e 3.0 formam um triângulo!\n",
      "O triângulo é escaleno!\n"
     ]
    }
   ],
   "source": [
    "lado1 = float(input('Informe o primeiro lado do triângulo: '))\n",
    "lado2 = float(input('Informe o segundo lado do triângulo: '))\n",
    "lado3 = float(input('Informe o terceiro lado do triângulo: '))\n",
    "if lado1 + lado2 > lado3 and lado1 + lado3 > lado2 and lado2 + lado3 > lado1:\n",
    "    print ('As medidas {}, {} e {} formam um triângulo!'.format(lado1, lado2, lado3))\n",
    "    if lado1 == lado2 == lado3:\n",
    "        print ('O triângulo é equilátero!')\n",
    "    elif lado1 != lado2 != lado3 != lado1:\n",
    "        print ('O triângulo é escaleno!')\n",
    "    else:\n",
    "        print ('O triângulo é isóceles!')\n",
    "else:\n",
    "    print ('As medidas {}, {} e {} não formam um triângulo!'.format(lado1, lado2, lado3))"
   ]
  },
  {
   "cell_type": "markdown",
   "id": "29793d4c",
   "metadata": {},
   "source": [
    "13. Faça um programa que calcule as raízes de uma equação do segundo grau, na forma ax2 + bx + c. O programa deverá pedir os valores de a, b e c e fazer as consistências, informando ao usuário nas seguintes situações:\n",
    "\n",
    "- Se o usuário informar o valor de A igual a zero, a equação não é do segundo grau e o programa não deve fazer pedir os demais valores, sendo encerrado;\n",
    "- Se o delta calculado for negativo, a equação não possui raizes reais. Informe ao usuário e encerre o programa;\n",
    "- Se o delta calculado for igual a zero a equação possui apenas uma raiz real. Informe-a ao usuário; \n",
    "- Se o delta for positivo, a equação possui duas raiz reais. Informe-as ao usuário; "
   ]
  },
  {
   "cell_type": "code",
   "execution_count": null,
   "id": "4cff8697",
   "metadata": {},
   "outputs": [],
   "source": [
    "valorA = float(input('Informe o valor de a: '))\n",
    "if valorA == 0:\n",
    "    print ('Não é uma equação de segundo grau!')\n",
    "else:\n",
    "    valorB = float(input('Informe o valor de b: '))\n",
    "    valorC = float(input('Informe o valor de c: '))\n",
    "    delta = valorB ** 2 - 4 * valorA * valorC\n",
    "    if delta < 0:\n",
    "        print ('A equação não possui raízes reais!')\n",
    "    elif delta == 0:\n",
    "        raiz = (-1 * valorB) / (2 * valorA)\n",
    "        print ('A equação possui apenas uma raiz real:', raiz)\n",
    "    else:\n",
    "        raiz = (-1 * valorB - delta ** 0.5) / (2 * valorA)\n",
    "        raiz2 = (-1 * valorB + delta ** 0.5) / (2 * valorA)\n",
    "        print ('A equação possui as seguintes raízes reais: {:.2f} e {:.2f}'.format(raiz, raiz2))\n",
    "    "
   ]
  },
  {
   "cell_type": "markdown",
   "id": "e11d8f00",
   "metadata": {},
   "source": [
    "14. Faça um Programa que peça um número correspondente a um determinado ano e em seguida informe se este ano é ou não bissexto. "
   ]
  },
  {
   "cell_type": "code",
   "execution_count": 20,
   "id": "317983f4",
   "metadata": {},
   "outputs": [
    {
     "name": "stdout",
     "output_type": "stream",
     "text": [
      "Informe o ano que você deseja verificar: 2400\n",
      "O 2400 é bissexto!\n"
     ]
    }
   ],
   "source": [
    "ano = int(input('Informe o ano que você deseja verificar: '))\n",
    "if ano % 4 == 0 and ano % 100 != 0  or ano % 400 == 0:\n",
    "    print ('O',ano,'é bissexto!')\n",
    "else:\n",
    "    print('O',ano,'não é bissexto!')"
   ]
  },
  {
   "cell_type": "markdown",
   "id": "327fbd96",
   "metadata": {},
   "source": [
    "15. Faça um Programa para leitura de três notas parciais de um aluno. O programa deve calcular a média alcançada por aluno e apresentar:\n",
    "\n",
    "- A mensagem \"Aprovado\", se a média for maior ou igual a 7, com a respectiva média alcançada;\n",
    "- A mensagem \"Reprovado\", se a média for menor do que 7, com a respectiva média alcançada; \n",
    "- A mensagem \"Aprovado com Distinção\", se a média for igual a 10. "
   ]
  },
  {
   "cell_type": "code",
   "execution_count": 23,
   "id": "5a5edd30",
   "metadata": {},
   "outputs": [
    {
     "name": "stdout",
     "output_type": "stream",
     "text": [
      "Informe a nota do primeiro bimestre: 5\n",
      "Informe a nota do segundo bimestre: 5\n",
      "Informe a nota do terceiro bimestre: 5\n",
      "Sua média foi 5.00! Reprovado!\n"
     ]
    }
   ],
   "source": [
    "nota1 = float(input('Informe a nota do primeiro bimestre: '))\n",
    "nota2 = float(input('Informe a nota do segundo bimestre: '))\n",
    "nota3 = float(input('Informe a nota do terceiro bimestre: '))\n",
    "media = (nota1 + nota2 + nota3) / 3\n",
    "if media == 10:\n",
    "    print('Sua média foi {:.2f}! Aprovado com distinção!'.format(media))\n",
    "elif 10 > media >= 7:\n",
    "    print('Sua média foi {:.2f}! Aprovado!'.format(media))\n",
    "else:\n",
    "    print('Sua média foi {:.2f}! Reprovado!'.format(media))"
   ]
  },
  {
   "cell_type": "markdown",
   "id": "4d9628bc",
   "metadata": {},
   "source": [
    "16. Faça um Programa para um caixa eletrônico. O programa deverá perguntar ao usuário a valor do saque e depois informar quantas notas de cada valor serão fornecidas. As notas disponíveis serão as de 1, 5, 10, 50 e 100 reais. O valor mínimo é de 10 reais e o máximo de 600 reais. O programa não deve se preocupar com a quantidade de notas existentes na máquina. \n",
    "\n",
    "- Exemplo 1: Para sacar a quantia de 256 reais, o programa fornece duas notas de 100, uma nota de 50, uma nota de 5 e uma nota de 1;\n",
    "- Exemplo 2: Para sacar a quantia de 399 reais, o programa fornece três notas de 100, uma nota de 50, quatro notas de 10, uma nota de 5 e quatro notas de 1. \n"
   ]
  },
  {
   "cell_type": "code",
   "execution_count": 40,
   "id": "89192929",
   "metadata": {},
   "outputs": [
    {
     "name": "stdout",
     "output_type": "stream",
     "text": [
      "Informe o valor do saque: 256\n",
      "As notas disponibilizadas para o seu saque serão:\n",
      "      R$ 100  -   2\n",
      "      R$ 50   -   1\n",
      "      R$ 10   -   0\n",
      "      R$ 5    -   1\n",
      "      R$ 1    -   1\n"
     ]
    }
   ],
   "source": [
    "saque = float(input('Informe o valor do saque: '))\n",
    "if saque > 600 or saque < 10:\n",
    "    print ('Valor de saque indisponível. Por favor, informe um valor entre R$ 10,00 e R$ 600,00')\n",
    "else:\n",
    "    nota100 = saque // 100\n",
    "    nota50  = saque % 100 // 50\n",
    "    nota10  = saque % 50 // 10\n",
    "    nota5   = saque % 10 // 5\n",
    "    nota1   = saque % 5\n",
    "\n",
    "    print('''As notas disponibilizadas para o seu saque serão:\n",
    "      R$ 100  -   {:.0f}\n",
    "      R$ 50   -   {:.0f}\n",
    "      R$ 10   -   {:.0f}\n",
    "      R$ 5    -   {:.0f}\n",
    "      R$ 1    -   {:.0f}'''.format(nota100, nota50, nota10, nota5, nota1))\n"
   ]
  },
  {
   "cell_type": "markdown",
   "id": "b440f71e",
   "metadata": {},
   "source": [
    "17. Faça um Programa que peça um número inteiro e determine se ele é par ou impar. "
   ]
  },
  {
   "cell_type": "code",
   "execution_count": 1,
   "id": "9b0313b8",
   "metadata": {},
   "outputs": [
    {
     "name": "stdout",
     "output_type": "stream",
     "text": [
      "Informe um número inteiro: 1\n",
      "O número 1 é ímpar!\n"
     ]
    }
   ],
   "source": [
    "num = int(input('Informe um número inteiro: '))\n",
    "if num == 0:\n",
    "    print ('O valor 0 é considerado um número neutro!')\n",
    "elif num % 2 == 0:\n",
    "    print('O número',num,'é par!')\n",
    "else:\n",
    "    print('O número',num,'é ímpar!')"
   ]
  },
  {
   "cell_type": "markdown",
   "id": "bb557cd6",
   "metadata": {},
   "source": [
    "18. Faça um Programa que leia 2 números e em seguida pergunte ao usuário qual operação ele deseja realizar. O resultado da operação deve ser acompanhado de uma frase que diga se o número é:\n",
    "\n",
    "- Par ou ímpar;\n",
    "- Positivo ou negativo;\n",
    "- Inteiro ou decimal."
   ]
  },
  {
   "cell_type": "code",
   "execution_count": 27,
   "id": "2ea0bc56",
   "metadata": {},
   "outputs": [
    {
     "name": "stdout",
     "output_type": "stream",
     "text": [
      "Informe o primeiro número: -8\n",
      "Informe o segundo número: 3\n",
      "Informe a opção que você deseja: \n",
      "1 - Soma\n",
      "2 - Subtração\n",
      "3 - Multiplicação\n",
      "4 - Divisão\n",
      "5 - Potenciação\n",
      "6 - Radiciação\n",
      "\n",
      "6\n",
      "Não é possível tirar a raíz com radicando negativo\n"
     ]
    }
   ],
   "source": [
    "num1 = float(input('Informe o primeiro número: '))\n",
    "num2 = float(input('Informe o segundo número: '))\n",
    "opcao = str(input('''Informe a opção que você deseja: \n",
    "1 - Soma\n",
    "2 - Subtração\n",
    "3 - Multiplicação\n",
    "4 - Divisão\n",
    "5 - Potenciação\n",
    "6 - Radiciação\n",
    "\n",
    "'''))\n",
    "\n",
    "if opcao == '1':\n",
    "    soma = num1 + num2\n",
    "    print('O resultado da soma entre {:.2f} e {:.2f} é {:.2f}!'.format(num1, num2, soma))\n",
    "    if soma == 0:\n",
    "        print ('O valor 0 é considerado um número neutro!')\n",
    "    elif soma > 0:\n",
    "        print(soma, 'é um valor positivo')\n",
    "    else:\n",
    "        print(soma,'é um valor negativo')    \n",
    "    if soma % 2 == 0 and soma != 0:\n",
    "        print('O número',soma,'é par!')\n",
    "    elif soma % 2 == 1:\n",
    "        print('O número',soma,'é ímpar!')\n",
    "    if soma // 1 == soma:\n",
    "        print (soma, 'é um número inteiro')\n",
    "    else:\n",
    "        print (soma, 'é um número decimal')\n",
    "elif opcao == '2':\n",
    "    subtracao = num1 - num2\n",
    "    print('O resultado da subtração entre {:.2f} e {:.2f} é {:.2f}!'.format(num1, num2, subtracao))\n",
    "    if subtracao == 0:\n",
    "        print ('O valor 0 é considerado um número neutro!')\n",
    "    elif subtracao > 0:\n",
    "        print(subtracao, 'é um valor positivo')\n",
    "    else:\n",
    "        print(subtracao,'é um valor negativo')    \n",
    "    if subtracao % 2 == 0 and subtracao != 0:\n",
    "        print('O número',subtracao,'é par!')\n",
    "    elif subtracao % 2 == 1:\n",
    "        print('O número',subtracao,'é ímpar!')\n",
    "    if subtracao // 1 == subtracao:\n",
    "        print (subtracao, 'é um número inteiro')\n",
    "    else:\n",
    "        print (subtracao, 'é um número decimal')\n",
    "elif opcao == '3':\n",
    "    multiplic = num1 * num2\n",
    "    print('O resultado da multiplicação entre {:.2f} e {:.2f} é {:.2f}!'.format(num1, num2, multiplic))\n",
    "    if multiplic == 0:\n",
    "        print ('O valor 0 é considerado um número neutro!')\n",
    "    elif multiplic > 0:\n",
    "        print(multiplic, 'é um valor positivo')\n",
    "    else:\n",
    "        print(multiplic,'é um valor negativo')    \n",
    "    if multiplic % 2 == 0 and multiplic != 0:\n",
    "        print('O número',multiplic,'é par!')\n",
    "    elif multiplic % 2 == 1:\n",
    "        print('O número',multiplic,'é ímpar!')\n",
    "    if multiplic // 1 == multiplic:\n",
    "        print (multiplic, 'é um número inteiro')\n",
    "    else:\n",
    "        print (multiplic, 'é um número decimal')\n",
    "elif opcao == '4':\n",
    "    if num2 == 0:\n",
    "        print ('Não é possível dividir um número por zero!')\n",
    "    else:\n",
    "        divisao = num1 / num2\n",
    "        print('O resultado da divisão entre {:.2f} e {:.2f} é {:.2f}!'.format(num1, num2, divisao))\n",
    "        if divisao == 0:\n",
    "            print ('O valor 0 é considerado um número neutro!')\n",
    "        elif divisao > 0:\n",
    "            print(divisao, 'é um valor positivo')\n",
    "        else:\n",
    "            print(divisao,'é um valor negativo')    \n",
    "        if divisao % 2 == 0 and divisao != 0:\n",
    "            print('O número',divisao,'é par!')\n",
    "        elif divisao % 2 == 1:\n",
    "            print('O número',divisao,'é ímpar!')\n",
    "        if divisao // 1 == divisao:\n",
    "            print (divisao, 'é um número inteiro')\n",
    "        else:\n",
    "            print (divisao, 'é um número decimal')\n",
    "elif opcao == '5':\n",
    "    potenciacao = num1 ** num2\n",
    "    print('O resultado da potenciação entre {:.2f} e {:.2f} é {:.2f}!'.format(num1, num2, potenciacao))\n",
    "    if potenciacao == 0:\n",
    "        print ('O valor 0 é considerado um número neutro!')\n",
    "    elif potenciacao > 0:\n",
    "        print(potenciacao, 'é um valor positivo')\n",
    "    else:\n",
    "        print(potenciacao,'é um valor negativo')    \n",
    "    if potenciacao % 2 == 0 and potenciacao != 0:\n",
    "        print('O número',potenciacao,'é par!')\n",
    "    elif potenciacao % 2 == 1:\n",
    "        print('O número',potenciacao,'é ímpar!')\n",
    "    if potenciacao // 1 == potenciacao:\n",
    "        print (potenciacao, 'é um número inteiro')\n",
    "    else:\n",
    "        print (potenciacao, 'é um número decimal')\n",
    "elif opcao == '6':\n",
    "    if num2 == 0:\n",
    "        print ('Não é possível fazer radiciação com um índice igual a zero!')\n",
    "    elif num1 < 0:\n",
    "        print ('Não é possível tirar a raíz com radicando negativo')\n",
    "    else:\n",
    "        radiciacao = num1 ** (1/num2)\n",
    "        print('O resultado da radiciação entre {:.2f} e {:.2f} é {:.2f}!'.format(num1, num2, radiciacao))\n",
    "        if radiciacao == 0:\n",
    "            print ('O valor 0 é considerado um número neutro!')\n",
    "        elif radiciacao > 0:\n",
    "            print(radiciacao, 'é um valor positivo')\n",
    "        else:\n",
    "            print(radiciacao,'é um valor negativo')    \n",
    "        if radiciacao % 2 == 0 and radiciacao != 0:\n",
    "            print('O número',radiciacao,'é par!')\n",
    "        elif radiciacao % 2 == 1:\n",
    "            print('O número',radiciacao,'é ímpar!')\n",
    "        if radiciacao // 1 == radiciacao:\n",
    "            print (radiciacao, 'é um número inteiro')\n",
    "        else:\n",
    "            print (radiciacao, 'é um número decimal')\n",
    "else:\n",
    "    print('Opção inválida!')"
   ]
  },
  {
   "cell_type": "markdown",
   "id": "f04e5189",
   "metadata": {},
   "source": [
    "19. Faça um programa que faça 5 perguntas para uma pessoa sobre um crime. As perguntas são: \n",
    "\n",
    "- \"Telefonou para a vítima?\"\n",
    "- \"Esteve no local do crime?\" \n",
    "- \"Mora perto da vítima?\"\n",
    "- \"Devia para a vítima?\"\n",
    "- \"Já trabalhou com a vítima?\" \n",
    "\n",
    "O programa deve no final emitir uma classificação sobre a participação da pessoa no crime. Se a pessoa responder positivamente\n",
    "a 2 questões ela deve ser classificada como \"Suspeita\", entre 3 e 4 como \"Cúmplice\" e 5 como \"Assassino\". Caso contrário, ele será classificado como \"Inocente\". "
   ]
  },
  {
   "cell_type": "code",
   "execution_count": 5,
   "id": "820b0670",
   "metadata": {},
   "outputs": [
    {
     "name": "stdout",
     "output_type": "stream",
     "text": [
      "Telefonou para a vítima? [Resposa 1 para \"SIM\" ou 0 para \"NÃO\"]99\n",
      "Esteve no local do crime? [Resposa 1 para \"SIM\" ou 0 para \"NÃO\"]23\n",
      "Mora perto da vítima? [Resposa 1 para \"SIM\" ou 0 para \"NÃO\"]12\n",
      "Devia para a vítima? [Resposa 1 para \"SIM\" ou 0 para \"NÃO\"]0\n",
      "Já trabalhou com a vítima? [Resposa 1 para \"SIM\" ou 0 para \"NÃO\"]1\n",
      "Respostas inválidas!\n"
     ]
    }
   ],
   "source": [
    "resposta1 = int(input('Telefonou para a vítima? [Resposa 1 para \"SIM\" ou 0 para \"NÃO\"]'))\n",
    "resposta2 = int(input('Esteve no local do crime? [Resposa 1 para \"SIM\" ou 0 para \"NÃO\"]'))\n",
    "resposta3 = int(input('Mora perto da vítima? [Resposa 1 para \"SIM\" ou 0 para \"NÃO\"]'))\n",
    "resposta4 = int(input('Devia para a vítima? [Resposa 1 para \"SIM\" ou 0 para \"NÃO\"]'))\n",
    "resposta5 = int(input('Já trabalhou com a vítima? [Resposa 1 para \"SIM\" ou 0 para \"NÃO\"]'))\n",
    "\n",
    "somarespostas = resposta1 + resposta2 + resposta3 + resposta4 + resposta5\n",
    "\n",
    "if somarespostas == 5:\n",
    "    print('Você é o assassino!')\n",
    "elif 3 <= somarespostas <= 4:\n",
    "    print('Você é cúmplice!')\n",
    "elif somarespostas == 2:\n",
    "    print('Você é supeito!')\n",
    "elif 0 <= somarespostas < 2:\n",
    "    print('Você é inocente!')\n",
    "else:\n",
    "    print('Respostas inválidas!')\n"
   ]
  },
  {
   "cell_type": "markdown",
   "id": "9d5cbf55",
   "metadata": {},
   "source": [
    "20. Um posto está vendendo combustíveis com a seguinte tabela de descontos:\n",
    "\n",
    "Álcool: \n",
    "\n",
    "- Até 20 litros, desconto de 3% por litro;\n",
    "- Acima de 20 litros, desconto de 5% por litro.\n",
    "\n",
    "Gasolina: \n",
    "\n",
    "- Até 20 litros, desconto de 4% por litro;\n",
    "- Acima de 20 litros, desconto de 6% por litro. \n",
    "\n",
    "Escreva um algoritmo que leia o número de litros vendidos, o tipo de combustível (codificado da seguinte forma: A-álcool, G-gasolina), calcule e imprima o valor a ser pago pelo cliente sabendo-se que o preço do litro da gasolina é R$ 2,50 o preço do litro do álcool é R$ 1,90. "
   ]
  },
  {
   "cell_type": "code",
   "execution_count": 32,
   "id": "5fe10573",
   "metadata": {},
   "outputs": [
    {
     "name": "stdout",
     "output_type": "stream",
     "text": [
      "Informe o número de litros vendidos: 5\n",
      "Informe o combustível desejado (A para álcool e G para gasolina): a\n",
      "O valor a ser pago será de 9.21R$\n"
     ]
    }
   ],
   "source": [
    "resp = 'inválida'\n",
    "while resp == 'inválida':\n",
    "    litrosVendidos = float(input('Informe o número de litros vendidos: '))\n",
    "    if litrosVendidos >= 0:\n",
    "        resp = 'válida'\n",
    "    else:\n",
    "        print('Valor inválido! Tente novamente!')\n",
    "resp = 'inválida'\n",
    "while resp == 'inválida':\n",
    "    combustivel = str(input('Informe o combustível desejado (A para álcool e G para gasolina): ')).strip().upper()\n",
    "    if combustivel in 'AG':\n",
    "        resp = 'válida'\n",
    "    else:\n",
    "        print('Combustível inválido! Tente novamente!')\n",
    "if combustivel == 'A' and litrosVendidos <= 20:\n",
    "    valorpago = (1.9 - 1.9 * 0.03) * litrosVendidos\n",
    "elif combustivel == 'A' and litrosVendidos > 20:\n",
    "    valorpago = (1.9 - 1.9 * 0.05) * litrosVendidos\n",
    "elif combustivel == 'G' and litrosVendidos <= 20:\n",
    "    valorpago = (2.5 - 2.5 * 0.04) * litrosVendidos    \n",
    "elif combustivel == 'G' and litrosVendidos > 20:\n",
    "    valorpago = (2.5 - 2.5 * 0.06) * litrosVendidos\n",
    "print(f'O valor a ser pago será de {valorpago:.2f}R$')\n",
    "    "
   ]
  },
  {
   "cell_type": "markdown",
   "id": "5a0f5cfe",
   "metadata": {},
   "source": [
    "21. Uma fruteira está vendendo frutas com a seguinte tabela de preços:\n",
    " \n",
    " - Até 5 Kg:\n",
    " \n",
    "     - Morango R$ 2,50;     \n",
    "     - Maçã R$ 1,80.\n",
    "     \n",
    " - Acima de 5 Kg:\n",
    " \n",
    "    - Morango R$ 2,20 por Kg;\n",
    "    - Maçã R$ 1,50 por Kg.\n",
    "    \n",
    "Se o cliente comprar mais de 8 Kg em frutas ou o valor total da compra ultrapassar R$ 25,00, receberá ainda um desconto de 10% sobre este total. Escreva um algoritmo para ler a quantidade (em Kg) de morangos e a quantidade (em Kg) de maças adquiridas e escreva o valor a ser pago pelo cliente."
   ]
  },
  {
   "cell_type": "code",
   "execution_count": 6,
   "id": "af426d8f",
   "metadata": {},
   "outputs": [
    {
     "name": "stdout",
     "output_type": "stream",
     "text": [
      "Informe a fruta que você deseja (Morango/Maçã): morango\n",
      "Informe quantos Kg de morango você deseja compra: 10\n",
      "Deseja comprar novamente? [S/N]: s\n",
      "Informe a fruta que você deseja (Morango/Maçã): maçã\n",
      "Informe quantos Kg de maçã você deseja compra: 10\n",
      "Deseja comprar novamente? [S/N]: n\n",
      "O valor total da compra foi de 29.97R$!\n"
     ]
    }
   ],
   "source": [
    "precoMorango = 2.5\n",
    "precoMaca = 1.8\n",
    "compraMorangoParcial = compraMacaParcial = 0\n",
    "resp = 'S'\n",
    "while resp == 'S':\n",
    "    valorCompraMorango = valorCompraMaca = 0\n",
    "    fruta = str(input('Informe a fruta que você deseja (Morango/Maçã): ')).strip().upper()\n",
    "    if fruta == 'MORANGO':\n",
    "        resp2 = 'S'\n",
    "        while resp2 == 'S':\n",
    "            morangoKg = float(input('Informe quantos Kg de morango você deseja compra: '))\n",
    "            if 0 < morangoKg <= 5:\n",
    "                valorCompraMorango = precoMorango * morangoKg\n",
    "                compraMorangoParcial += valorCompraMorango\n",
    "                resp2 = 'N'\n",
    "            elif 5 < morangoKg <= 8:\n",
    "                valorCompraMorango = (precoMorango - 0.3) * morangoKg\n",
    "                compraMorangoParcial += valorCompraMorango\n",
    "                resp2 = 'N'\n",
    "            elif morangoKg > 8:\n",
    "                valorCompraMorango = (precoMorango - 0.3) * morangoKg\n",
    "                valorCompraMorango -= valorCompraMorango * 0.1\n",
    "                compraMorangoParcial += valorCompraMorango\n",
    "                resp2 = 'N'\n",
    "            else:\n",
    "                print('Informação inválida! Tente novamente!')\n",
    "        denovo = str(input('Deseja comprar novamente? [S/N]: ')).strip().upper()\n",
    "        if denovo == 'N':\n",
    "            resp = 'N'\n",
    "    elif fruta == 'MAÇÃ':\n",
    "        resp2 = 'S'\n",
    "        while resp2 == 'S':\n",
    "            macaKg = float(input('Informe quantos Kg de maçã você deseja compra: '))\n",
    "            if 0 < macaKg <= 5:\n",
    "                valorCompraMaca = precoMaca * macaKg\n",
    "                compraMacaParcial += valorCompraMaca\n",
    "                resp2 = 'N'\n",
    "            elif 5 < macaKg <= 8:\n",
    "                valorCompraMaca= (precoMaca - 0.3) * macaKg\n",
    "                compraMacaParcial += valorCompraMaca\n",
    "                resp2 = 'N'\n",
    "            elif macaKg > 8:\n",
    "                valorCompraMaca = (precoMaca - 0.3) * macaKg\n",
    "                valorCompraMaca -= valorCompraMaca * 0.1\n",
    "                compraMacaParcial += valorCompraMaca\n",
    "                resp2 = 'N'\n",
    "            else:\n",
    "                print('Informação inválida! Tente novamente!')\n",
    "        resp = 'N'\n",
    "        denovo = str(input('Deseja comprar novamente? [S/N]: ')).strip().upper()\n",
    "        if denovo == 'N':\n",
    "            resp = 'N'\n",
    "    else:\n",
    "        print('Informação inválida! Tente novamente!')        \n",
    "compraTotal = compraMorangoParcial + compraMacaParcial\n",
    "if compraTotal > 25:\n",
    "    compraTotal -= compraTotal * 0.1\n",
    "    print('O valor total da compra foi de {:.2f}R$!'.format(compraTotal))\n",
    "elif 0 < compraTotal <= 25:\n",
    "    print('O valor total da compra foi de {:.2f}R$!'.format(compraTotal))\n",
    "\n"
   ]
  },
  {
   "cell_type": "markdown",
   "id": "d2f0fb08",
   "metadata": {},
   "source": [
    "22. Elabore um algoritmo que dada a idade de um nadador classifica-o em uma das seguintes categorias: \n",
    "\n",
    "- Infantil A = 5 - 7 anos;\n",
    "- Infantil B = 8-10 anos; \n",
    "- Juvenil A = 11-13 anos; \n",
    "- Juvenil B = 14-17 anos; \n",
    "- Adulto = maiores de 18 anos."
   ]
  },
  {
   "cell_type": "code",
   "execution_count": 14,
   "id": "79fed5f9",
   "metadata": {},
   "outputs": [
    {
     "name": "stdout",
     "output_type": "stream",
     "text": [
      "Informe a idade do nadador: 50\n",
      "O nadador é da categoria Adulto!\n"
     ]
    }
   ],
   "source": [
    "idade = int(input('Informe a idade do nadador: '))\n",
    "if 5 <= idade < 8:\n",
    "    print('O nadador é da categoria Infantil A!')\n",
    "elif 8 <= idade < 11:\n",
    "    print('O nadador é da categoria Infantil B!')\n",
    "elif 11 <= idade < 14:\n",
    "    print('O nadador é da categoria Juvenil A!')\n",
    "elif 14 <= idade < 18:\n",
    "    print('O nadador é da categoria Juvenil B!')\n",
    "elif 18 <=idade :\n",
    "    print('O nadador é da categoria Adulto!')\n",
    "else:\n",
    "    print('Idade abaixo da idade mínima (5 anos)!')\n",
    "        "
   ]
  },
  {
   "cell_type": "markdown",
   "id": "2c10a176",
   "metadata": {},
   "source": [
    "23. Tendo como dados de entrada a altura e o sexo de uma pessoa, construa um algoritmo que calcule seu peso ideal, utilizando as seguintes fórmulas: (h = altura)\n",
    "\n",
    "- Homens: (72.7*h) – 58 \n",
    "\n",
    "- Mulheres: (62.1*h) - 44.7 \n",
    "\n"
   ]
  },
  {
   "cell_type": "code",
   "execution_count": 20,
   "id": "c5d2a4d7",
   "metadata": {},
   "outputs": [
    {
     "name": "stdout",
     "output_type": "stream",
     "text": [
      "Informe o sexo da pessoa: m\n",
      "Informe a altura da pessoa: 1.8\n",
      "Seu peso ideal é de 72.86kg\n"
     ]
    }
   ],
   "source": [
    "sexo = str(input('Informe o sexo da pessoa [M/F]: ')).strip().upper()\n",
    "if sexo not in'MF':\n",
    "    print('Informação inválida!')   \n",
    "elif sexo == 'M':\n",
    "    altura = float(input('Informe a altura da pessoa: '))\n",
    "    peso = 72.7 * altura - 58\n",
    "    print('Seu peso ideal é de {:.2f}kg'.format(peso))\n",
    "elif sexo == 'F':\n",
    "    altura = float(input('Informe a altura da pessoa: '))\n",
    "    peso = 62.1 * altura - 44.7\n",
    "    print('Seu peso ideal é de {:.2f}kg'.format(peso))\n",
    "    "
   ]
  }
 ],
 "metadata": {
  "kernelspec": {
   "display_name": "Python 3 (ipykernel)",
   "language": "python",
   "name": "python3"
  },
  "language_info": {
   "codemirror_mode": {
    "name": "ipython",
    "version": 3
   },
   "file_extension": ".py",
   "mimetype": "text/x-python",
   "name": "python",
   "nbconvert_exporter": "python",
   "pygments_lexer": "ipython3",
   "version": "3.9.12"
  }
 },
 "nbformat": 4,
 "nbformat_minor": 5
}
